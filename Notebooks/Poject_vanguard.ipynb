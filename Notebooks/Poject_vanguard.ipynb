{
 "cells": [
  {
   "cell_type": "code",
   "execution_count": 77,
   "id": "27388b03-0cd1-4266-a9e4-ea227eeb5e17",
   "metadata": {},
   "outputs": [],
   "source": [
    "import pandas as pd\n",
    "import numpy as np\n",
    "import seaborn as sns\n",
    "import functions as func\n",
    "import csv\n",
    "from scipy import stats\n",
    "from scipy.stats import zscore\n",
    "from scipy.stats import chi2_contingency\n",
    "from scipy.stats.contingency import association\n",
    "from scipy.stats import f_oneway\n",
    "from scipy.stats import ttest_ind\n",
    "import scipy.stats as st\n",
    "from statsmodels.stats.proportion import proportions_ztest\n",
    "import matplotlib.pyplot as plt\n",
    "from datetime import timedelta"
   ]
  },
  {
   "cell_type": "code",
   "execution_count": 2,
   "id": "17f80a00-9880-42b9-a483-62b28f069f84",
   "metadata": {
    "scrolled": true
   },
   "outputs": [
    {
     "data": {
      "text/html": [
       "<div>\n",
       "<style scoped>\n",
       "    .dataframe tbody tr th:only-of-type {\n",
       "        vertical-align: middle;\n",
       "    }\n",
       "\n",
       "    .dataframe tbody tr th {\n",
       "        vertical-align: top;\n",
       "    }\n",
       "\n",
       "    .dataframe thead th {\n",
       "        text-align: right;\n",
       "    }\n",
       "</style>\n",
       "<table border=\"1\" class=\"dataframe\">\n",
       "  <thead>\n",
       "    <tr style=\"text-align: right;\">\n",
       "      <th></th>\n",
       "      <th>client_id</th>\n",
       "      <th>visitor_id</th>\n",
       "      <th>visit_id</th>\n",
       "      <th>process_step</th>\n",
       "      <th>date_time</th>\n",
       "    </tr>\n",
       "  </thead>\n",
       "  <tbody>\n",
       "    <tr>\n",
       "      <th>285515</th>\n",
       "      <td>169</td>\n",
       "      <td>201385055_71273495308</td>\n",
       "      <td>749567106_99161211863_557568</td>\n",
       "      <td>start</td>\n",
       "      <td>2017-04-12 20:19:36</td>\n",
       "    </tr>\n",
       "    <tr>\n",
       "      <th>285514</th>\n",
       "      <td>169</td>\n",
       "      <td>201385055_71273495308</td>\n",
       "      <td>749567106_99161211863_557568</td>\n",
       "      <td>step_1</td>\n",
       "      <td>2017-04-12 20:19:45</td>\n",
       "    </tr>\n",
       "    <tr>\n",
       "      <th>285513</th>\n",
       "      <td>169</td>\n",
       "      <td>201385055_71273495308</td>\n",
       "      <td>749567106_99161211863_557568</td>\n",
       "      <td>step_2</td>\n",
       "      <td>2017-04-12 20:20:31</td>\n",
       "    </tr>\n",
       "    <tr>\n",
       "      <th>285512</th>\n",
       "      <td>169</td>\n",
       "      <td>201385055_71273495308</td>\n",
       "      <td>749567106_99161211863_557568</td>\n",
       "      <td>step_3</td>\n",
       "      <td>2017-04-12 20:22:05</td>\n",
       "    </tr>\n",
       "    <tr>\n",
       "      <th>285511</th>\n",
       "      <td>169</td>\n",
       "      <td>201385055_71273495308</td>\n",
       "      <td>749567106_99161211863_557568</td>\n",
       "      <td>confirm</td>\n",
       "      <td>2017-04-12 20:23:09</td>\n",
       "    </tr>\n",
       "    <tr>\n",
       "      <th>628456</th>\n",
       "      <td>336</td>\n",
       "      <td>64757908_3400128256</td>\n",
       "      <td>649044751_80905125055_554468</td>\n",
       "      <td>start</td>\n",
       "      <td>2017-06-01 07:26:55</td>\n",
       "    </tr>\n",
       "    <tr>\n",
       "      <th>628331</th>\n",
       "      <td>336</td>\n",
       "      <td>64757908_3400128256</td>\n",
       "      <td>649044751_80905125055_554468</td>\n",
       "      <td>start</td>\n",
       "      <td>2017-06-01 07:42:43</td>\n",
       "    </tr>\n",
       "    <tr>\n",
       "      <th>442857</th>\n",
       "      <td>546</td>\n",
       "      <td>475037402_89828530214</td>\n",
       "      <td>731811517_9330176838_94847</td>\n",
       "      <td>start</td>\n",
       "      <td>2017-06-17 10:03:29</td>\n",
       "    </tr>\n",
       "    <tr>\n",
       "      <th>442856</th>\n",
       "      <td>546</td>\n",
       "      <td>475037402_89828530214</td>\n",
       "      <td>731811517_9330176838_94847</td>\n",
       "      <td>step_1</td>\n",
       "      <td>2017-06-17 10:03:39</td>\n",
       "    </tr>\n",
       "    <tr>\n",
       "      <th>442855</th>\n",
       "      <td>546</td>\n",
       "      <td>475037402_89828530214</td>\n",
       "      <td>731811517_9330176838_94847</td>\n",
       "      <td>step_2</td>\n",
       "      <td>2017-06-17 10:03:52</td>\n",
       "    </tr>\n",
       "  </tbody>\n",
       "</table>\n",
       "</div>"
      ],
      "text/plain": [
       "        client_id             visitor_id                      visit_id  \\\n",
       "285515        169  201385055_71273495308  749567106_99161211863_557568   \n",
       "285514        169  201385055_71273495308  749567106_99161211863_557568   \n",
       "285513        169  201385055_71273495308  749567106_99161211863_557568   \n",
       "285512        169  201385055_71273495308  749567106_99161211863_557568   \n",
       "285511        169  201385055_71273495308  749567106_99161211863_557568   \n",
       "628456        336    64757908_3400128256  649044751_80905125055_554468   \n",
       "628331        336    64757908_3400128256  649044751_80905125055_554468   \n",
       "442857        546  475037402_89828530214    731811517_9330176838_94847   \n",
       "442856        546  475037402_89828530214    731811517_9330176838_94847   \n",
       "442855        546  475037402_89828530214    731811517_9330176838_94847   \n",
       "\n",
       "       process_step           date_time  \n",
       "285515        start 2017-04-12 20:19:36  \n",
       "285514       step_1 2017-04-12 20:19:45  \n",
       "285513       step_2 2017-04-12 20:20:31  \n",
       "285512       step_3 2017-04-12 20:22:05  \n",
       "285511      confirm 2017-04-12 20:23:09  \n",
       "628456        start 2017-06-01 07:26:55  \n",
       "628331        start 2017-06-01 07:42:43  \n",
       "442857        start 2017-06-17 10:03:29  \n",
       "442856       step_1 2017-06-17 10:03:39  \n",
       "442855       step_2 2017-06-17 10:03:52  "
      ]
     },
     "execution_count": 2,
     "metadata": {},
     "output_type": "execute_result"
    }
   ],
   "source": [
    "file_path = r'C:\\Users\\gijsv\\OneDrive\\Documenten\\Ironhack\\week5\\Project\\Data\\Raw\\df_final_demo.txt'\n",
    "df_f_dem_original = pd.read_csv(file_path)\n",
    "df_f_dem = df_f_dem_original.copy()\n",
    "\n",
    "file_path = r'C:\\Users\\gijsv\\OneDrive\\Documenten\\Ironhack\\week5\\Project\\Data\\Raw\\df_final_experiment_clients.txt'\n",
    "df_f_ex_original = pd.read_csv(file_path)\n",
    "df_f_ex = df_f_ex_original.copy()\n",
    "\n",
    "file_path = r'C:\\Users\\gijsv\\OneDrive\\Documenten\\Ironhack\\week5\\Project\\Data\\Raw\\df_final_web_data_pt_1.txt'\n",
    "df_f_we1_original = pd.read_csv(file_path)\n",
    "df_f_we1 = df_f_we1_original.copy()\n",
    "df_f_we1\n",
    "\n",
    "file_path = r'C:\\Users\\gijsv\\OneDrive\\Documenten\\Ironhack\\week5\\Project\\Data\\Raw\\df_final_web_data_pt_2.txt'\n",
    "df_f_we2_original = pd.read_csv(file_path)\n",
    "df_f_we2 = df_f_we2_original.copy()\n",
    "\n",
    "concatenated_df = pd.concat([df_f_we1, df_f_we2], ignore_index=True)\n",
    "df_f_we = concatenated_df.sort_values(by=['client_id', 'date_time'])\n",
    "df_f_we['date_time'] = pd.to_datetime(df_f_we['date_time'])\n",
    "\n",
    "df_f_we.head(10)"
   ]
  },
  {
   "cell_type": "code",
   "execution_count": 3,
   "id": "22152d1e-a465-4994-aad5-ae993967ecba",
   "metadata": {
    "scrolled": true
   },
   "outputs": [
    {
     "data": {
      "text/html": [
       "<div>\n",
       "<style scoped>\n",
       "    .dataframe tbody tr th:only-of-type {\n",
       "        vertical-align: middle;\n",
       "    }\n",
       "\n",
       "    .dataframe tbody tr th {\n",
       "        vertical-align: top;\n",
       "    }\n",
       "\n",
       "    .dataframe thead th {\n",
       "        text-align: right;\n",
       "    }\n",
       "</style>\n",
       "<table border=\"1\" class=\"dataframe\">\n",
       "  <thead>\n",
       "    <tr style=\"text-align: right;\">\n",
       "      <th></th>\n",
       "      <th>client_id</th>\n",
       "      <th>visitor_id</th>\n",
       "      <th>visit_id</th>\n",
       "      <th>process_step</th>\n",
       "      <th>date_time</th>\n",
       "      <th>step_value</th>\n",
       "    </tr>\n",
       "  </thead>\n",
       "  <tbody>\n",
       "    <tr>\n",
       "      <th>285515</th>\n",
       "      <td>169</td>\n",
       "      <td>201385055_71273495308</td>\n",
       "      <td>749567106_99161211863_557568</td>\n",
       "      <td>start</td>\n",
       "      <td>2017-04-12 20:19:36</td>\n",
       "      <td>0</td>\n",
       "    </tr>\n",
       "    <tr>\n",
       "      <th>285514</th>\n",
       "      <td>169</td>\n",
       "      <td>201385055_71273495308</td>\n",
       "      <td>749567106_99161211863_557568</td>\n",
       "      <td>step_1</td>\n",
       "      <td>2017-04-12 20:19:45</td>\n",
       "      <td>1</td>\n",
       "    </tr>\n",
       "    <tr>\n",
       "      <th>285513</th>\n",
       "      <td>169</td>\n",
       "      <td>201385055_71273495308</td>\n",
       "      <td>749567106_99161211863_557568</td>\n",
       "      <td>step_2</td>\n",
       "      <td>2017-04-12 20:20:31</td>\n",
       "      <td>2</td>\n",
       "    </tr>\n",
       "    <tr>\n",
       "      <th>285512</th>\n",
       "      <td>169</td>\n",
       "      <td>201385055_71273495308</td>\n",
       "      <td>749567106_99161211863_557568</td>\n",
       "      <td>step_3</td>\n",
       "      <td>2017-04-12 20:22:05</td>\n",
       "      <td>3</td>\n",
       "    </tr>\n",
       "    <tr>\n",
       "      <th>285511</th>\n",
       "      <td>169</td>\n",
       "      <td>201385055_71273495308</td>\n",
       "      <td>749567106_99161211863_557568</td>\n",
       "      <td>confirm</td>\n",
       "      <td>2017-04-12 20:23:09</td>\n",
       "      <td>4</td>\n",
       "    </tr>\n",
       "    <tr>\n",
       "      <th>628456</th>\n",
       "      <td>336</td>\n",
       "      <td>64757908_3400128256</td>\n",
       "      <td>649044751_80905125055_554468</td>\n",
       "      <td>start</td>\n",
       "      <td>2017-06-01 07:26:55</td>\n",
       "      <td>0</td>\n",
       "    </tr>\n",
       "    <tr>\n",
       "      <th>628331</th>\n",
       "      <td>336</td>\n",
       "      <td>64757908_3400128256</td>\n",
       "      <td>649044751_80905125055_554468</td>\n",
       "      <td>start</td>\n",
       "      <td>2017-06-01 07:42:43</td>\n",
       "      <td>0</td>\n",
       "    </tr>\n",
       "    <tr>\n",
       "      <th>442857</th>\n",
       "      <td>546</td>\n",
       "      <td>475037402_89828530214</td>\n",
       "      <td>731811517_9330176838_94847</td>\n",
       "      <td>start</td>\n",
       "      <td>2017-06-17 10:03:29</td>\n",
       "      <td>0</td>\n",
       "    </tr>\n",
       "    <tr>\n",
       "      <th>442856</th>\n",
       "      <td>546</td>\n",
       "      <td>475037402_89828530214</td>\n",
       "      <td>731811517_9330176838_94847</td>\n",
       "      <td>step_1</td>\n",
       "      <td>2017-06-17 10:03:39</td>\n",
       "      <td>1</td>\n",
       "    </tr>\n",
       "    <tr>\n",
       "      <th>442855</th>\n",
       "      <td>546</td>\n",
       "      <td>475037402_89828530214</td>\n",
       "      <td>731811517_9330176838_94847</td>\n",
       "      <td>step_2</td>\n",
       "      <td>2017-06-17 10:03:52</td>\n",
       "      <td>2</td>\n",
       "    </tr>\n",
       "  </tbody>\n",
       "</table>\n",
       "</div>"
      ],
      "text/plain": [
       "        client_id             visitor_id                      visit_id  \\\n",
       "285515        169  201385055_71273495308  749567106_99161211863_557568   \n",
       "285514        169  201385055_71273495308  749567106_99161211863_557568   \n",
       "285513        169  201385055_71273495308  749567106_99161211863_557568   \n",
       "285512        169  201385055_71273495308  749567106_99161211863_557568   \n",
       "285511        169  201385055_71273495308  749567106_99161211863_557568   \n",
       "628456        336    64757908_3400128256  649044751_80905125055_554468   \n",
       "628331        336    64757908_3400128256  649044751_80905125055_554468   \n",
       "442857        546  475037402_89828530214    731811517_9330176838_94847   \n",
       "442856        546  475037402_89828530214    731811517_9330176838_94847   \n",
       "442855        546  475037402_89828530214    731811517_9330176838_94847   \n",
       "\n",
       "       process_step           date_time  step_value  \n",
       "285515        start 2017-04-12 20:19:36           0  \n",
       "285514       step_1 2017-04-12 20:19:45           1  \n",
       "285513       step_2 2017-04-12 20:20:31           2  \n",
       "285512       step_3 2017-04-12 20:22:05           3  \n",
       "285511      confirm 2017-04-12 20:23:09           4  \n",
       "628456        start 2017-06-01 07:26:55           0  \n",
       "628331        start 2017-06-01 07:42:43           0  \n",
       "442857        start 2017-06-17 10:03:29           0  \n",
       "442856       step_1 2017-06-17 10:03:39           1  \n",
       "442855       step_2 2017-06-17 10:03:52           2  "
      ]
     },
     "execution_count": 3,
     "metadata": {},
     "output_type": "execute_result"
    }
   ],
   "source": [
    "conditions = [\n",
    "    df_f_we['process_step'] == 'start',\n",
    "    df_f_we['process_step'] == 'step_1',\n",
    "    df_f_we['process_step'] == 'step_2',\n",
    "    df_f_we['process_step'] == 'step_3',\n",
    "    df_f_we['process_step'] == 'confirm'\n",
    "]\n",
    "values = [0, 1, 2, 3, 4]\n",
    "\n",
    "df_f_we['step_value'] = np.select(conditions, values, default=np.nan).astype(int)\n",
    "df_f_we.head(10)"
   ]
  },
  {
   "cell_type": "code",
   "execution_count": 4,
   "id": "3a723296-f048-4bfd-b0ee-7ad94abe64d6",
   "metadata": {},
   "outputs": [],
   "source": [
    "dem_ex_merge = pd.merge(df_f_dem, df_f_ex, on='client_id', how='inner')"
   ]
  },
  {
   "cell_type": "markdown",
   "id": "969d8178-2426-4bdc-a1e8-7caccb5e0f99",
   "metadata": {},
   "source": [
    "## Creating df for test group"
   ]
  },
  {
   "cell_type": "code",
   "execution_count": 5,
   "id": "3601c398-6e0e-40b8-aef7-80b33af45652",
   "metadata": {},
   "outputs": [],
   "source": [
    "filtered_dem_ex_merge_drop = dem_ex_merge[dem_ex_merge['Variation'] == 'Test']\n",
    "client_ids = filtered_dem_ex_merge_drop['client_id'].unique()\n",
    "filtered_df_f_we = df_f_we[df_f_we['client_id'].isin(client_ids)]\n",
    "test_df_time = pd.merge(filtered_dem_ex_merge_drop, filtered_df_f_we, on='client_id')\n",
    "test_df_time_sorted = test_df_time.sort_values(by=['client_id', 'date_time'])\n",
    "test_df_time_sorted['visit_id_numbers'] = test_df_time_sorted['visit_id'].str.split('_').str[-1].astype(int)"
   ]
  },
  {
   "cell_type": "code",
   "execution_count": 6,
   "id": "7ddeff5c-4645-4ec8-9959-d1053a76f192",
   "metadata": {},
   "outputs": [
    {
     "data": {
      "text/html": [
       "<div>\n",
       "<style scoped>\n",
       "    .dataframe tbody tr th:only-of-type {\n",
       "        vertical-align: middle;\n",
       "    }\n",
       "\n",
       "    .dataframe tbody tr th {\n",
       "        vertical-align: top;\n",
       "    }\n",
       "\n",
       "    .dataframe thead th {\n",
       "        text-align: right;\n",
       "    }\n",
       "</style>\n",
       "<table border=\"1\" class=\"dataframe\">\n",
       "  <thead>\n",
       "    <tr style=\"text-align: right;\">\n",
       "      <th></th>\n",
       "      <th>client_id</th>\n",
       "      <th>clnt_tenure_yr</th>\n",
       "      <th>clnt_tenure_mnth</th>\n",
       "      <th>clnt_age</th>\n",
       "      <th>gendr</th>\n",
       "      <th>num_accts</th>\n",
       "      <th>bal</th>\n",
       "      <th>calls_6_mnth</th>\n",
       "      <th>logons_6_mnth</th>\n",
       "      <th>Variation</th>\n",
       "      <th>visitor_id</th>\n",
       "      <th>visit_id</th>\n",
       "      <th>process_step</th>\n",
       "      <th>date_time</th>\n",
       "      <th>step_value</th>\n",
       "      <th>visit_id_numbers</th>\n",
       "    </tr>\n",
       "  </thead>\n",
       "  <tbody>\n",
       "    <tr>\n",
       "      <th>141353</th>\n",
       "      <td>555</td>\n",
       "      <td>3.0</td>\n",
       "      <td>46.0</td>\n",
       "      <td>29.5</td>\n",
       "      <td>U</td>\n",
       "      <td>2.0</td>\n",
       "      <td>25454.66</td>\n",
       "      <td>2.0</td>\n",
       "      <td>6.0</td>\n",
       "      <td>Test</td>\n",
       "      <td>402506806_56087378777</td>\n",
       "      <td>637149525_38041617439_716659</td>\n",
       "      <td>start</td>\n",
       "      <td>2017-04-15 12:57:56</td>\n",
       "      <td>0</td>\n",
       "      <td>716659</td>\n",
       "    </tr>\n",
       "    <tr>\n",
       "      <th>141354</th>\n",
       "      <td>555</td>\n",
       "      <td>3.0</td>\n",
       "      <td>46.0</td>\n",
       "      <td>29.5</td>\n",
       "      <td>U</td>\n",
       "      <td>2.0</td>\n",
       "      <td>25454.66</td>\n",
       "      <td>2.0</td>\n",
       "      <td>6.0</td>\n",
       "      <td>Test</td>\n",
       "      <td>402506806_56087378777</td>\n",
       "      <td>637149525_38041617439_716659</td>\n",
       "      <td>step_1</td>\n",
       "      <td>2017-04-15 12:58:03</td>\n",
       "      <td>1</td>\n",
       "      <td>716659</td>\n",
       "    </tr>\n",
       "    <tr>\n",
       "      <th>141355</th>\n",
       "      <td>555</td>\n",
       "      <td>3.0</td>\n",
       "      <td>46.0</td>\n",
       "      <td>29.5</td>\n",
       "      <td>U</td>\n",
       "      <td>2.0</td>\n",
       "      <td>25454.66</td>\n",
       "      <td>2.0</td>\n",
       "      <td>6.0</td>\n",
       "      <td>Test</td>\n",
       "      <td>402506806_56087378777</td>\n",
       "      <td>637149525_38041617439_716659</td>\n",
       "      <td>step_2</td>\n",
       "      <td>2017-04-15 12:58:35</td>\n",
       "      <td>2</td>\n",
       "      <td>716659</td>\n",
       "    </tr>\n",
       "    <tr>\n",
       "      <th>141356</th>\n",
       "      <td>555</td>\n",
       "      <td>3.0</td>\n",
       "      <td>46.0</td>\n",
       "      <td>29.5</td>\n",
       "      <td>U</td>\n",
       "      <td>2.0</td>\n",
       "      <td>25454.66</td>\n",
       "      <td>2.0</td>\n",
       "      <td>6.0</td>\n",
       "      <td>Test</td>\n",
       "      <td>402506806_56087378777</td>\n",
       "      <td>637149525_38041617439_716659</td>\n",
       "      <td>step_3</td>\n",
       "      <td>2017-04-15 13:00:14</td>\n",
       "      <td>3</td>\n",
       "      <td>716659</td>\n",
       "    </tr>\n",
       "    <tr>\n",
       "      <th>141357</th>\n",
       "      <td>555</td>\n",
       "      <td>3.0</td>\n",
       "      <td>46.0</td>\n",
       "      <td>29.5</td>\n",
       "      <td>U</td>\n",
       "      <td>2.0</td>\n",
       "      <td>25454.66</td>\n",
       "      <td>2.0</td>\n",
       "      <td>6.0</td>\n",
       "      <td>Test</td>\n",
       "      <td>402506806_56087378777</td>\n",
       "      <td>637149525_38041617439_716659</td>\n",
       "      <td>confirm</td>\n",
       "      <td>2017-04-15 13:00:34</td>\n",
       "      <td>4</td>\n",
       "      <td>716659</td>\n",
       "    </tr>\n",
       "    <tr>\n",
       "      <th>...</th>\n",
       "      <td>...</td>\n",
       "      <td>...</td>\n",
       "      <td>...</td>\n",
       "      <td>...</td>\n",
       "      <td>...</td>\n",
       "      <td>...</td>\n",
       "      <td>...</td>\n",
       "      <td>...</td>\n",
       "      <td>...</td>\n",
       "      <td>...</td>\n",
       "      <td>...</td>\n",
       "      <td>...</td>\n",
       "      <td>...</td>\n",
       "      <td>...</td>\n",
       "      <td>...</td>\n",
       "      <td>...</td>\n",
       "    </tr>\n",
       "    <tr>\n",
       "      <th>171552</th>\n",
       "      <td>9999729</td>\n",
       "      <td>10.0</td>\n",
       "      <td>124.0</td>\n",
       "      <td>31.0</td>\n",
       "      <td>F</td>\n",
       "      <td>3.0</td>\n",
       "      <td>107059.74</td>\n",
       "      <td>6.0</td>\n",
       "      <td>9.0</td>\n",
       "      <td>Test</td>\n",
       "      <td>834634258_21862004160</td>\n",
       "      <td>870243567_56915814033_814203</td>\n",
       "      <td>start</td>\n",
       "      <td>2017-05-08 16:08:25</td>\n",
       "      <td>0</td>\n",
       "      <td>814203</td>\n",
       "    </tr>\n",
       "    <tr>\n",
       "      <th>171553</th>\n",
       "      <td>9999729</td>\n",
       "      <td>10.0</td>\n",
       "      <td>124.0</td>\n",
       "      <td>31.0</td>\n",
       "      <td>F</td>\n",
       "      <td>3.0</td>\n",
       "      <td>107059.74</td>\n",
       "      <td>6.0</td>\n",
       "      <td>9.0</td>\n",
       "      <td>Test</td>\n",
       "      <td>834634258_21862004160</td>\n",
       "      <td>870243567_56915814033_814203</td>\n",
       "      <td>step_1</td>\n",
       "      <td>2017-05-08 16:08:30</td>\n",
       "      <td>1</td>\n",
       "      <td>814203</td>\n",
       "    </tr>\n",
       "    <tr>\n",
       "      <th>171554</th>\n",
       "      <td>9999729</td>\n",
       "      <td>10.0</td>\n",
       "      <td>124.0</td>\n",
       "      <td>31.0</td>\n",
       "      <td>F</td>\n",
       "      <td>3.0</td>\n",
       "      <td>107059.74</td>\n",
       "      <td>6.0</td>\n",
       "      <td>9.0</td>\n",
       "      <td>Test</td>\n",
       "      <td>834634258_21862004160</td>\n",
       "      <td>870243567_56915814033_814203</td>\n",
       "      <td>step_2</td>\n",
       "      <td>2017-05-08 16:08:40</td>\n",
       "      <td>2</td>\n",
       "      <td>814203</td>\n",
       "    </tr>\n",
       "    <tr>\n",
       "      <th>171555</th>\n",
       "      <td>9999729</td>\n",
       "      <td>10.0</td>\n",
       "      <td>124.0</td>\n",
       "      <td>31.0</td>\n",
       "      <td>F</td>\n",
       "      <td>3.0</td>\n",
       "      <td>107059.74</td>\n",
       "      <td>6.0</td>\n",
       "      <td>9.0</td>\n",
       "      <td>Test</td>\n",
       "      <td>834634258_21862004160</td>\n",
       "      <td>870243567_56915814033_814203</td>\n",
       "      <td>step_3</td>\n",
       "      <td>2017-05-08 16:09:19</td>\n",
       "      <td>3</td>\n",
       "      <td>814203</td>\n",
       "    </tr>\n",
       "    <tr>\n",
       "      <th>171556</th>\n",
       "      <td>9999729</td>\n",
       "      <td>10.0</td>\n",
       "      <td>124.0</td>\n",
       "      <td>31.0</td>\n",
       "      <td>F</td>\n",
       "      <td>3.0</td>\n",
       "      <td>107059.74</td>\n",
       "      <td>6.0</td>\n",
       "      <td>9.0</td>\n",
       "      <td>Test</td>\n",
       "      <td>834634258_21862004160</td>\n",
       "      <td>870243567_56915814033_814203</td>\n",
       "      <td>confirm</td>\n",
       "      <td>2017-05-08 16:09:40</td>\n",
       "      <td>4</td>\n",
       "      <td>814203</td>\n",
       "    </tr>\n",
       "  </tbody>\n",
       "</table>\n",
       "<p>135959 rows × 16 columns</p>\n",
       "</div>"
      ],
      "text/plain": [
       "        client_id  clnt_tenure_yr  clnt_tenure_mnth  clnt_age gendr  \\\n",
       "141353        555             3.0              46.0      29.5     U   \n",
       "141354        555             3.0              46.0      29.5     U   \n",
       "141355        555             3.0              46.0      29.5     U   \n",
       "141356        555             3.0              46.0      29.5     U   \n",
       "141357        555             3.0              46.0      29.5     U   \n",
       "...           ...             ...               ...       ...   ...   \n",
       "171552    9999729            10.0             124.0      31.0     F   \n",
       "171553    9999729            10.0             124.0      31.0     F   \n",
       "171554    9999729            10.0             124.0      31.0     F   \n",
       "171555    9999729            10.0             124.0      31.0     F   \n",
       "171556    9999729            10.0             124.0      31.0     F   \n",
       "\n",
       "        num_accts        bal  calls_6_mnth  logons_6_mnth Variation  \\\n",
       "141353        2.0   25454.66           2.0            6.0      Test   \n",
       "141354        2.0   25454.66           2.0            6.0      Test   \n",
       "141355        2.0   25454.66           2.0            6.0      Test   \n",
       "141356        2.0   25454.66           2.0            6.0      Test   \n",
       "141357        2.0   25454.66           2.0            6.0      Test   \n",
       "...           ...        ...           ...            ...       ...   \n",
       "171552        3.0  107059.74           6.0            9.0      Test   \n",
       "171553        3.0  107059.74           6.0            9.0      Test   \n",
       "171554        3.0  107059.74           6.0            9.0      Test   \n",
       "171555        3.0  107059.74           6.0            9.0      Test   \n",
       "171556        3.0  107059.74           6.0            9.0      Test   \n",
       "\n",
       "                   visitor_id                      visit_id process_step  \\\n",
       "141353  402506806_56087378777  637149525_38041617439_716659        start   \n",
       "141354  402506806_56087378777  637149525_38041617439_716659       step_1   \n",
       "141355  402506806_56087378777  637149525_38041617439_716659       step_2   \n",
       "141356  402506806_56087378777  637149525_38041617439_716659       step_3   \n",
       "141357  402506806_56087378777  637149525_38041617439_716659      confirm   \n",
       "...                       ...                           ...          ...   \n",
       "171552  834634258_21862004160  870243567_56915814033_814203        start   \n",
       "171553  834634258_21862004160  870243567_56915814033_814203       step_1   \n",
       "171554  834634258_21862004160  870243567_56915814033_814203       step_2   \n",
       "171555  834634258_21862004160  870243567_56915814033_814203       step_3   \n",
       "171556  834634258_21862004160  870243567_56915814033_814203      confirm   \n",
       "\n",
       "                 date_time  step_value  visit_id_numbers  \n",
       "141353 2017-04-15 12:57:56           0            716659  \n",
       "141354 2017-04-15 12:58:03           1            716659  \n",
       "141355 2017-04-15 12:58:35           2            716659  \n",
       "141356 2017-04-15 13:00:14           3            716659  \n",
       "141357 2017-04-15 13:00:34           4            716659  \n",
       "...                    ...         ...               ...  \n",
       "171552 2017-05-08 16:08:25           0            814203  \n",
       "171553 2017-05-08 16:08:30           1            814203  \n",
       "171554 2017-05-08 16:08:40           2            814203  \n",
       "171555 2017-05-08 16:09:19           3            814203  \n",
       "171556 2017-05-08 16:09:40           4            814203  \n",
       "\n",
       "[135959 rows x 16 columns]"
      ]
     },
     "execution_count": 6,
     "metadata": {},
     "output_type": "execute_result"
    }
   ],
   "source": [
    "client_ids_test_reached_confirmation = np.unique(test_df_time_sorted[test_df_time_sorted['process_step'] == \"confirm\"]['client_id'].values)\n",
    "test_finish_df = test_df_time_sorted[ test_df_time_sorted['client_id'].isin(client_ids_test_reached_confirmation) ]\n",
    "\n",
    "test_finish_df"
   ]
  },
  {
   "cell_type": "markdown",
   "id": "5379468a-f6ca-430d-a65b-f8b25e2bd22e",
   "metadata": {},
   "source": [
    "## Calculating time differences for Test group."
   ]
  },
  {
   "cell_type": "markdown",
   "id": "cb3a4be0-4d56-460b-a651-49d86bfcf2f3",
   "metadata": {
    "scrolled": true
   },
   "source": [
    "Calling on function that calculates the total time from start to last confirmation in one session"
   ]
  },
  {
   "cell_type": "code",
   "execution_count": 82,
   "id": "2406eb4f-aa43-4fc9-af68-717c63c92e68",
   "metadata": {},
   "outputs": [],
   "source": [
    "test_total_times = func.calculate_total_times(test_finish_df)"
   ]
  },
  {
   "cell_type": "code",
   "execution_count": 78,
   "id": "a1820bb6-98de-4d6e-a734-e7b9b8e165d3",
   "metadata": {},
   "outputs": [
    {
     "name": "stdout",
     "output_type": "stream",
     "text": [
      "Average time: 333.058985 seconds\n"
     ]
    }
   ],
   "source": [
    "total_time_seconds = sum(test_total_times, timedelta()) \n",
    "average_time = total_time_seconds / len(test_total_times)\n",
    "average_time_seconds_test = average_time.total_seconds() \n",
    "\n",
    "print(\"Average time:\", average_time_seconds, \"seconds\")"
   ]
  },
  {
   "cell_type": "markdown",
   "id": "d70e4c57-a834-4cca-aa8f-3a95a3eceffa",
   "metadata": {},
   "source": [
    "Calling on function that calculates time difference step by step"
   ]
  },
  {
   "cell_type": "code",
   "execution_count": 9,
   "id": "2e601887-f8cf-48fb-be9b-e8f6f1df3419",
   "metadata": {},
   "outputs": [
    {
     "data": {
      "text/plain": [
       "30.57463960922918"
      ]
     },
     "execution_count": 9,
     "metadata": {},
     "output_type": "execute_result"
    }
   ],
   "source": [
    "test_step_1_time_diff = func.calculate_time_differences_step(test_finish_df, 0, 1)\n",
    "test_avg_time_diff_step1 = np.mean(test_step_1_time_diff)\n",
    "test_avg_time_diff_step1"
   ]
  },
  {
   "cell_type": "code",
   "execution_count": 10,
   "id": "60a212ba-2abc-4d43-900a-724e3cfe0eb0",
   "metadata": {},
   "outputs": [
    {
     "data": {
      "text/plain": [
       "36.361507989495706"
      ]
     },
     "execution_count": 10,
     "metadata": {},
     "output_type": "execute_result"
    }
   ],
   "source": [
    "test_step_2_time_diff = func.calculate_time_differences_step(test_finish_df, 1, 2)\n",
    "test_avg_time_diff_step2 = np.mean(test_step_2_time_diff)\n",
    "test_avg_time_diff_step2"
   ]
  },
  {
   "cell_type": "code",
   "execution_count": 11,
   "id": "3e4e73e4-da66-4379-96d1-8cfaa16bbb42",
   "metadata": {},
   "outputs": [
    {
     "data": {
      "text/plain": [
       "86.60626831804859"
      ]
     },
     "execution_count": 11,
     "metadata": {},
     "output_type": "execute_result"
    }
   ],
   "source": [
    "test_step_3_time_diff = func.calculate_time_differences_step(test_finish_df, 2, 3)\n",
    "test_avg_time_diff_step3 = np.mean(test_step_3_time_diff)\n",
    "test_avg_time_diff_step3"
   ]
  },
  {
   "cell_type": "code",
   "execution_count": 12,
   "id": "e30ff8a1-e4ae-4dc6-99eb-05f55cf8d98d",
   "metadata": {},
   "outputs": [
    {
     "data": {
      "text/plain": [
       "104.83331518187758"
      ]
     },
     "execution_count": 12,
     "metadata": {},
     "output_type": "execute_result"
    }
   ],
   "source": [
    "test_step_4_time_diff = func.calculate_time_differences_step(test_finish_df, 3, 4)\n",
    "test_avg_time_diff_step4 = np.mean(test_step_4_time_diff)\n",
    "test_avg_time_diff_step4"
   ]
  },
  {
   "cell_type": "markdown",
   "id": "72a8ba25-51d7-41e6-87fb-1b7dde264a63",
   "metadata": {},
   "source": [
    "## Creating df control group "
   ]
  },
  {
   "cell_type": "code",
   "execution_count": 13,
   "id": "9cb76f0d-aa87-49bd-a368-fcdb061aed28",
   "metadata": {},
   "outputs": [],
   "source": [
    "filtered_dem_ex_merge_drop = dem_ex_merge[dem_ex_merge['Variation'] == 'Control']\n",
    "client_ids = filtered_dem_ex_merge_drop['client_id'].unique()\n",
    "filtered_df_f_we = df_f_we[df_f_we['client_id'].isin(client_ids)]\n",
    "control_df_time = pd.merge(filtered_dem_ex_merge_drop, filtered_df_f_we, on='client_id')\n",
    "control_df_time_sorted = control_df_time.sort_values(by=['client_id', 'date_time'])\n",
    "control_df_time_sorted['visit_id_numbers'] = control_df_time_sorted['visit_id'].str.split('_').str[-1].astype(int)"
   ]
  },
  {
   "cell_type": "code",
   "execution_count": 14,
   "id": "445747c6-fcea-4525-bcfa-a366458237d9",
   "metadata": {},
   "outputs": [
    {
     "data": {
      "text/html": [
       "<div>\n",
       "<style scoped>\n",
       "    .dataframe tbody tr th:only-of-type {\n",
       "        vertical-align: middle;\n",
       "    }\n",
       "\n",
       "    .dataframe tbody tr th {\n",
       "        vertical-align: top;\n",
       "    }\n",
       "\n",
       "    .dataframe thead th {\n",
       "        text-align: right;\n",
       "    }\n",
       "</style>\n",
       "<table border=\"1\" class=\"dataframe\">\n",
       "  <thead>\n",
       "    <tr style=\"text-align: right;\">\n",
       "      <th></th>\n",
       "      <th>client_id</th>\n",
       "      <th>clnt_tenure_yr</th>\n",
       "      <th>clnt_tenure_mnth</th>\n",
       "      <th>clnt_age</th>\n",
       "      <th>gendr</th>\n",
       "      <th>num_accts</th>\n",
       "      <th>bal</th>\n",
       "      <th>calls_6_mnth</th>\n",
       "      <th>logons_6_mnth</th>\n",
       "      <th>Variation</th>\n",
       "      <th>visitor_id</th>\n",
       "      <th>visit_id</th>\n",
       "      <th>process_step</th>\n",
       "      <th>date_time</th>\n",
       "      <th>step_value</th>\n",
       "      <th>visit_id_numbers</th>\n",
       "    </tr>\n",
       "  </thead>\n",
       "  <tbody>\n",
       "    <tr>\n",
       "      <th>127373</th>\n",
       "      <td>1195</td>\n",
       "      <td>21.0</td>\n",
       "      <td>262.0</td>\n",
       "      <td>54.5</td>\n",
       "      <td>M</td>\n",
       "      <td>2.0</td>\n",
       "      <td>28457.96</td>\n",
       "      <td>2.0</td>\n",
       "      <td>5.0</td>\n",
       "      <td>Control</td>\n",
       "      <td>766842522_69992551638</td>\n",
       "      <td>393817425_39015278493_996341</td>\n",
       "      <td>start</td>\n",
       "      <td>2017-04-05 20:15:26</td>\n",
       "      <td>0</td>\n",
       "      <td>996341</td>\n",
       "    </tr>\n",
       "    <tr>\n",
       "      <th>127374</th>\n",
       "      <td>1195</td>\n",
       "      <td>21.0</td>\n",
       "      <td>262.0</td>\n",
       "      <td>54.5</td>\n",
       "      <td>M</td>\n",
       "      <td>2.0</td>\n",
       "      <td>28457.96</td>\n",
       "      <td>2.0</td>\n",
       "      <td>5.0</td>\n",
       "      <td>Control</td>\n",
       "      <td>766842522_69992551638</td>\n",
       "      <td>393817425_39015278493_996341</td>\n",
       "      <td>step_1</td>\n",
       "      <td>2017-04-05 20:15:59</td>\n",
       "      <td>1</td>\n",
       "      <td>996341</td>\n",
       "    </tr>\n",
       "    <tr>\n",
       "      <th>127375</th>\n",
       "      <td>1195</td>\n",
       "      <td>21.0</td>\n",
       "      <td>262.0</td>\n",
       "      <td>54.5</td>\n",
       "      <td>M</td>\n",
       "      <td>2.0</td>\n",
       "      <td>28457.96</td>\n",
       "      <td>2.0</td>\n",
       "      <td>5.0</td>\n",
       "      <td>Control</td>\n",
       "      <td>766842522_69992551638</td>\n",
       "      <td>393817425_39015278493_996341</td>\n",
       "      <td>step_2</td>\n",
       "      <td>2017-04-05 20:17:37</td>\n",
       "      <td>2</td>\n",
       "      <td>996341</td>\n",
       "    </tr>\n",
       "    <tr>\n",
       "      <th>127376</th>\n",
       "      <td>1195</td>\n",
       "      <td>21.0</td>\n",
       "      <td>262.0</td>\n",
       "      <td>54.5</td>\n",
       "      <td>M</td>\n",
       "      <td>2.0</td>\n",
       "      <td>28457.96</td>\n",
       "      <td>2.0</td>\n",
       "      <td>5.0</td>\n",
       "      <td>Control</td>\n",
       "      <td>766842522_69992551638</td>\n",
       "      <td>393817425_39015278493_996341</td>\n",
       "      <td>step_3</td>\n",
       "      <td>2017-04-05 20:18:08</td>\n",
       "      <td>3</td>\n",
       "      <td>996341</td>\n",
       "    </tr>\n",
       "    <tr>\n",
       "      <th>127377</th>\n",
       "      <td>1195</td>\n",
       "      <td>21.0</td>\n",
       "      <td>262.0</td>\n",
       "      <td>54.5</td>\n",
       "      <td>M</td>\n",
       "      <td>2.0</td>\n",
       "      <td>28457.96</td>\n",
       "      <td>2.0</td>\n",
       "      <td>5.0</td>\n",
       "      <td>Control</td>\n",
       "      <td>766842522_69992551638</td>\n",
       "      <td>393817425_39015278493_996341</td>\n",
       "      <td>confirm</td>\n",
       "      <td>2017-04-05 20:19:31</td>\n",
       "      <td>4</td>\n",
       "      <td>996341</td>\n",
       "    </tr>\n",
       "    <tr>\n",
       "      <th>...</th>\n",
       "      <td>...</td>\n",
       "      <td>...</td>\n",
       "      <td>...</td>\n",
       "      <td>...</td>\n",
       "      <td>...</td>\n",
       "      <td>...</td>\n",
       "      <td>...</td>\n",
       "      <td>...</td>\n",
       "      <td>...</td>\n",
       "      <td>...</td>\n",
       "      <td>...</td>\n",
       "      <td>...</td>\n",
       "      <td>...</td>\n",
       "      <td>...</td>\n",
       "      <td>...</td>\n",
       "      <td>...</td>\n",
       "    </tr>\n",
       "    <tr>\n",
       "      <th>62790</th>\n",
       "      <td>9998346</td>\n",
       "      <td>50.0</td>\n",
       "      <td>602.0</td>\n",
       "      <td>61.5</td>\n",
       "      <td>F</td>\n",
       "      <td>2.0</td>\n",
       "      <td>149881.38</td>\n",
       "      <td>6.0</td>\n",
       "      <td>9.0</td>\n",
       "      <td>Control</td>\n",
       "      <td>292425655_16607136645</td>\n",
       "      <td>189177304_69869411700_783154</td>\n",
       "      <td>step_2</td>\n",
       "      <td>2017-03-29 15:30:11</td>\n",
       "      <td>2</td>\n",
       "      <td>783154</td>\n",
       "    </tr>\n",
       "    <tr>\n",
       "      <th>62791</th>\n",
       "      <td>9998346</td>\n",
       "      <td>50.0</td>\n",
       "      <td>602.0</td>\n",
       "      <td>61.5</td>\n",
       "      <td>F</td>\n",
       "      <td>2.0</td>\n",
       "      <td>149881.38</td>\n",
       "      <td>6.0</td>\n",
       "      <td>9.0</td>\n",
       "      <td>Control</td>\n",
       "      <td>292425655_16607136645</td>\n",
       "      <td>189177304_69869411700_783154</td>\n",
       "      <td>step_3</td>\n",
       "      <td>2017-03-29 15:30:25</td>\n",
       "      <td>3</td>\n",
       "      <td>783154</td>\n",
       "    </tr>\n",
       "    <tr>\n",
       "      <th>62792</th>\n",
       "      <td>9998346</td>\n",
       "      <td>50.0</td>\n",
       "      <td>602.0</td>\n",
       "      <td>61.5</td>\n",
       "      <td>F</td>\n",
       "      <td>2.0</td>\n",
       "      <td>149881.38</td>\n",
       "      <td>6.0</td>\n",
       "      <td>9.0</td>\n",
       "      <td>Control</td>\n",
       "      <td>292425655_16607136645</td>\n",
       "      <td>189177304_69869411700_783154</td>\n",
       "      <td>step_3</td>\n",
       "      <td>2017-03-29 15:37:28</td>\n",
       "      <td>3</td>\n",
       "      <td>783154</td>\n",
       "    </tr>\n",
       "    <tr>\n",
       "      <th>62793</th>\n",
       "      <td>9998346</td>\n",
       "      <td>50.0</td>\n",
       "      <td>602.0</td>\n",
       "      <td>61.5</td>\n",
       "      <td>F</td>\n",
       "      <td>2.0</td>\n",
       "      <td>149881.38</td>\n",
       "      <td>6.0</td>\n",
       "      <td>9.0</td>\n",
       "      <td>Control</td>\n",
       "      <td>292425655_16607136645</td>\n",
       "      <td>189177304_69869411700_783154</td>\n",
       "      <td>confirm</td>\n",
       "      <td>2017-03-29 15:37:28</td>\n",
       "      <td>4</td>\n",
       "      <td>783154</td>\n",
       "    </tr>\n",
       "    <tr>\n",
       "      <th>62794</th>\n",
       "      <td>9998346</td>\n",
       "      <td>50.0</td>\n",
       "      <td>602.0</td>\n",
       "      <td>61.5</td>\n",
       "      <td>F</td>\n",
       "      <td>2.0</td>\n",
       "      <td>149881.38</td>\n",
       "      <td>6.0</td>\n",
       "      <td>9.0</td>\n",
       "      <td>Control</td>\n",
       "      <td>292425655_16607136645</td>\n",
       "      <td>189177304_69869411700_783154</td>\n",
       "      <td>step_3</td>\n",
       "      <td>2017-03-29 15:37:28</td>\n",
       "      <td>3</td>\n",
       "      <td>783154</td>\n",
       "    </tr>\n",
       "  </tbody>\n",
       "</table>\n",
       "<p>110162 rows × 16 columns</p>\n",
       "</div>"
      ],
      "text/plain": [
       "        client_id  clnt_tenure_yr  clnt_tenure_mnth  clnt_age gendr  \\\n",
       "127373       1195            21.0             262.0      54.5     M   \n",
       "127374       1195            21.0             262.0      54.5     M   \n",
       "127375       1195            21.0             262.0      54.5     M   \n",
       "127376       1195            21.0             262.0      54.5     M   \n",
       "127377       1195            21.0             262.0      54.5     M   \n",
       "...           ...             ...               ...       ...   ...   \n",
       "62790     9998346            50.0             602.0      61.5     F   \n",
       "62791     9998346            50.0             602.0      61.5     F   \n",
       "62792     9998346            50.0             602.0      61.5     F   \n",
       "62793     9998346            50.0             602.0      61.5     F   \n",
       "62794     9998346            50.0             602.0      61.5     F   \n",
       "\n",
       "        num_accts        bal  calls_6_mnth  logons_6_mnth Variation  \\\n",
       "127373        2.0   28457.96           2.0            5.0   Control   \n",
       "127374        2.0   28457.96           2.0            5.0   Control   \n",
       "127375        2.0   28457.96           2.0            5.0   Control   \n",
       "127376        2.0   28457.96           2.0            5.0   Control   \n",
       "127377        2.0   28457.96           2.0            5.0   Control   \n",
       "...           ...        ...           ...            ...       ...   \n",
       "62790         2.0  149881.38           6.0            9.0   Control   \n",
       "62791         2.0  149881.38           6.0            9.0   Control   \n",
       "62792         2.0  149881.38           6.0            9.0   Control   \n",
       "62793         2.0  149881.38           6.0            9.0   Control   \n",
       "62794         2.0  149881.38           6.0            9.0   Control   \n",
       "\n",
       "                   visitor_id                      visit_id process_step  \\\n",
       "127373  766842522_69992551638  393817425_39015278493_996341        start   \n",
       "127374  766842522_69992551638  393817425_39015278493_996341       step_1   \n",
       "127375  766842522_69992551638  393817425_39015278493_996341       step_2   \n",
       "127376  766842522_69992551638  393817425_39015278493_996341       step_3   \n",
       "127377  766842522_69992551638  393817425_39015278493_996341      confirm   \n",
       "...                       ...                           ...          ...   \n",
       "62790   292425655_16607136645  189177304_69869411700_783154       step_2   \n",
       "62791   292425655_16607136645  189177304_69869411700_783154       step_3   \n",
       "62792   292425655_16607136645  189177304_69869411700_783154       step_3   \n",
       "62793   292425655_16607136645  189177304_69869411700_783154      confirm   \n",
       "62794   292425655_16607136645  189177304_69869411700_783154       step_3   \n",
       "\n",
       "                 date_time  step_value  visit_id_numbers  \n",
       "127373 2017-04-05 20:15:26           0            996341  \n",
       "127374 2017-04-05 20:15:59           1            996341  \n",
       "127375 2017-04-05 20:17:37           2            996341  \n",
       "127376 2017-04-05 20:18:08           3            996341  \n",
       "127377 2017-04-05 20:19:31           4            996341  \n",
       "...                    ...         ...               ...  \n",
       "62790  2017-03-29 15:30:11           2            783154  \n",
       "62791  2017-03-29 15:30:25           3            783154  \n",
       "62792  2017-03-29 15:37:28           3            783154  \n",
       "62793  2017-03-29 15:37:28           4            783154  \n",
       "62794  2017-03-29 15:37:28           3            783154  \n",
       "\n",
       "[110162 rows x 16 columns]"
      ]
     },
     "execution_count": 14,
     "metadata": {},
     "output_type": "execute_result"
    }
   ],
   "source": [
    "client_ids_control_reached_confirmation = np.unique(control_df_time_sorted[control_df_time_sorted['process_step'] == \"confirm\"]['client_id'].values)\n",
    "control_finish_df = control_df_time_sorted[ control_df_time_sorted['client_id'].isin(client_ids_control_reached_confirmation) ]\n",
    "control_finish_df"
   ]
  },
  {
   "cell_type": "markdown",
   "id": "d3ec617b-1e92-4358-9263-84fd393159c7",
   "metadata": {},
   "source": [
    "<span style=\"font-size:20px;\">Calculating time differences for Control group.</span>"
   ]
  },
  {
   "cell_type": "markdown",
   "id": "b532a514-da3d-4521-ab67-4490e0e70584",
   "metadata": {
    "scrolled": true
   },
   "source": [
    "Calling on function that calculates the total time from start to last confirmation in one session"
   ]
  },
  {
   "cell_type": "code",
   "execution_count": 15,
   "id": "ffaa978b-7254-42aa-a51b-7edb2543d5ac",
   "metadata": {},
   "outputs": [],
   "source": [
    "control_total_times = func.calculate_total_times(control_finish_df)"
   ]
  },
  {
   "cell_type": "code",
   "execution_count": 86,
   "id": "a011be32-6c16-49df-98b7-61590c538628",
   "metadata": {},
   "outputs": [],
   "source": [
    "control_total_seconds = [time_delta.total_seconds() for time_delta in control_total_times]"
   ]
  },
  {
   "cell_type": "code",
   "execution_count": 79,
   "id": "b677be7f-d555-4bc0-98f0-0bd8151600c7",
   "metadata": {},
   "outputs": [
    {
     "name": "stdout",
     "output_type": "stream",
     "text": [
      "Average time: 333.058985 seconds\n"
     ]
    }
   ],
   "source": [
    "total_time_seconds = sum(control_total_times, timedelta()) \n",
    "average_time = total_time_seconds / len(control_total_times)\n",
    "average_time_seconds_control = average_time.total_seconds() \n",
    "\n",
    "print(\"Average time:\", average_time_seconds, \"seconds\")"
   ]
  },
  {
   "cell_type": "code",
   "execution_count": 17,
   "id": "6fb0b69a-bcd8-4e99-8538-8e248b40be46",
   "metadata": {},
   "outputs": [
    {
     "data": {
      "text/plain": [
       "36.79552359732631"
      ]
     },
     "execution_count": 17,
     "metadata": {},
     "output_type": "execute_result"
    }
   ],
   "source": [
    "control_step_1_time_diff = func.calculate_time_differences_step(control_finish_df, 0, 1)\n",
    "control_avg_time_diff_step1 = np.mean(control_step_1_time_diff)\n",
    "control_avg_time_diff_step1"
   ]
  },
  {
   "cell_type": "code",
   "execution_count": 18,
   "id": "73e1a85d-00d5-4c34-bdd8-c623f16fd6e2",
   "metadata": {},
   "outputs": [
    {
     "data": {
      "text/plain": [
       "32.939302389453445"
      ]
     },
     "execution_count": 18,
     "metadata": {},
     "output_type": "execute_result"
    }
   ],
   "source": [
    "control_step_2_time_diff = func.calculate_time_differences_step(control_finish_df, 1, 2)\n",
    "control_avg_time_diff_step2 = np.mean(control_step_2_time_diff)\n",
    "control_avg_time_diff_step2"
   ]
  },
  {
   "cell_type": "code",
   "execution_count": 19,
   "id": "893e0019-2b09-40fd-8c15-be45b29ee7f9",
   "metadata": {},
   "outputs": [
    {
     "data": {
      "text/plain": [
       "86.19777516311905"
      ]
     },
     "execution_count": 19,
     "metadata": {},
     "output_type": "execute_result"
    }
   ],
   "source": [
    "control_step_3_time_diff = func.calculate_time_differences_step(control_finish_df, 2, 3)\n",
    "control_avg_time_diff_step3 = np.mean(control_step_3_time_diff)\n",
    "control_avg_time_diff_step3"
   ]
  },
  {
   "cell_type": "code",
   "execution_count": 20,
   "id": "e42d2475-7b27-4e2d-b295-d9aaab205f7f",
   "metadata": {},
   "outputs": [
    {
     "data": {
      "text/plain": [
       "127.14917560847945"
      ]
     },
     "execution_count": 20,
     "metadata": {},
     "output_type": "execute_result"
    }
   ],
   "source": [
    "control_step_4_time_diff = func.calculate_time_differences_step(control_finish_df, 3, 4)\n",
    "control_avg_time_diff_step4 = np.mean(control_step_4_time_diff)\n",
    "control_avg_time_diff_step4"
   ]
  },
  {
   "cell_type": "code",
   "execution_count": 90,
   "id": "cabdbfce-714f-497b-9dee-fc6a01f2c84a",
   "metadata": {},
   "outputs": [
    {
     "name": "stdout",
     "output_type": "stream",
     "text": [
      "CSV file created successfully: time_data.csv\n"
     ]
    }
   ],
   "source": [
    "test_total_time = average_time_seconds_test\n",
    "test_time_step1 = test_avg_time_diff_step1\n",
    "test_time_step2 = test_avg_time_diff_step2\n",
    "test_time_step3 = test_avg_time_diff_step3\n",
    "test_time_step4 = test_avg_time_diff_step4\n",
    "\n",
    "control_total_time = average_time_seconds_control\n",
    "control_time_step1 = control_avg_time_diff_step1\n",
    "control_time_step2 = control_avg_time_diff_step2\n",
    "control_time_step3 = control_avg_time_diff_step3\n",
    "control_time_step4 = control_avg_time_diff_step4\n",
    "\n",
    "# Write data to CSV file\n",
    "csv_file_path = 'time_data.csv'\n",
    "with open(csv_file_path, 'w', newline='') as csvfile:\n",
    "    writer = csv.writer(csvfile)\n",
    "    writer.writerow(['Group', 'Metric', 'Time'])\n",
    "    writer.writerow(['Test', 'Total Time Till Completion', test_total_time])\n",
    "    writer.writerow(['Test', 'Time Step 1', test_time_step1])\n",
    "    writer.writerow(['Test', 'Time Step 2', test_time_step2])\n",
    "    writer.writerow(['Test', 'Time Step 3', test_time_step3])\n",
    "    writer.writerow(['Test', 'Time Step 4', test_time_step4])\n",
    "    writer.writerow(['Control', 'Total Time Till Completion', control_total_time])\n",
    "    writer.writerow(['Control', 'Time Step 1', control_time_step1])\n",
    "    writer.writerow(['Control', 'Time Step 2', control_time_step2])\n",
    "    writer.writerow(['Control', 'Time Step 3', control_time_step3])\n",
    "    writer.writerow(['Control', 'Time Step 4', control_time_step4])\n",
    "\n",
    "print(\"CSV file created successfully:\", csv_file_path)\n"
   ]
  },
  {
   "cell_type": "markdown",
   "id": "6ebd848f-051f-43cd-840d-1d3250b74b0b",
   "metadata": {},
   "source": [
    "<span style=\"font-size:20px;\">Checking for error rate in Test group.</span>\n"
   ]
  },
  {
   "cell_type": "code",
   "execution_count": 21,
   "id": "89a68e51-20e9-46cc-99fc-70092bf02abb",
   "metadata": {
    "scrolled": true
   },
   "outputs": [
    {
     "name": "stdout",
     "output_type": "stream",
     "text": [
      "In the test group there are 10012 errors out of 37136 sessions.\n",
      "The ratio is 26.96 %\n"
     ]
    }
   ],
   "source": [
    "def check_next_step_errors(df):\n",
    "    error_count = 0\n",
    "    for client_id, group in df.groupby('visit_id_numbers'):\n",
    "        for i in range(len(group) - 1):\n",
    "            if group.iloc[i]['step_value'] > group.iloc[i + 1]['step_value']:\n",
    "                error_count += 1\n",
    "                break\n",
    "    return error_count\n",
    "\n",
    "test_error = check_next_step_errors(test_df_time_sorted)\n",
    "test_total_session = test_df_time_sorted['visit_id_numbers'].nunique()\n",
    "test_error_rate = round(((test_error / test_total_session)*100), 2)\n",
    "\n",
    "print(f\"In the test group there are {test_error} errors out of {test_total_session} sessions.\")\n",
    "print(f\"The ratio is {test_error_rate} %\")"
   ]
  },
  {
   "cell_type": "markdown",
   "id": "6a84fd9e-bee3-4af3-994b-d862a3d1c9dc",
   "metadata": {},
   "source": [
    "<span style=\"font-size:20px;\">Checking for error rate in Control group.</span>\n"
   ]
  },
  {
   "cell_type": "code",
   "execution_count": 22,
   "id": "e40c1dfa-c1cd-4b83-bd88-5ca754fb1a49",
   "metadata": {},
   "outputs": [
    {
     "name": "stdout",
     "output_type": "stream",
     "text": [
      "In the test group there are 6581 errors out of 32189 sessions.\n",
      "The ratio is 20.44 %\n"
     ]
    }
   ],
   "source": [
    "def check_next_step_errors(df):\n",
    "    error_count = 0\n",
    "    for client_id, group in df.groupby('visit_id_numbers'):\n",
    "        for i in range(len(group) - 1):\n",
    "            if group.iloc[i]['step_value'] > group.iloc[i + 1]['step_value']:\n",
    "                error_count += 1\n",
    "                break\n",
    "    return error_count\n",
    "\n",
    "control_error = check_next_step_errors(control_df_time_sorted)\n",
    "control_total_session = control_df_time_sorted['visit_id_numbers'].nunique()\n",
    "control_error_rate = round(((control_error / control_total_session)*100), 2)\n",
    "\n",
    "print(f\"In the test group there are {control_error} errors out of {control_total_session} sessions.\")\n",
    "print(f\"The ratio is {control_error_rate} %\")"
   ]
  },
  {
   "cell_type": "code",
   "execution_count": 111,
   "id": "0fca10b3-2556-4cc7-99ff-37aaf795cee0",
   "metadata": {},
   "outputs": [
    {
     "name": "stdout",
     "output_type": "stream",
     "text": [
      "CSV file created successfully.\n"
     ]
    }
   ],
   "source": [
    "data = {\n",
    "    'Group': ['Test', 'Control'],\n",
    "    'Errors': [test_error, control_error],\n",
    "    'Sessions': [test_total_session, control_total_session],\n",
    "    'Error Rate': [test_error_rate, control_error_rate]\n",
    "}\n",
    "error_df = pd.DataFrame(data)\n",
    "error_df.to_csv('error_rates.csv', index=False)\n",
    "\n",
    "print(\"CSV file created successfully.\")"
   ]
  },
  {
   "cell_type": "code",
   "execution_count": 27,
   "id": "055c7c35-5c10-446f-bde5-13cf9cd5d0b2",
   "metadata": {},
   "outputs": [
    {
     "data": {
      "text/plain": [
       "array(['Test', 'Control', nan], dtype=object)"
      ]
     },
     "execution_count": 27,
     "metadata": {},
     "output_type": "execute_result"
    }
   ],
   "source": [
    "dem_ex_merge['Variation'].unique()"
   ]
  },
  {
   "cell_type": "code",
   "execution_count": 28,
   "id": "ba11e980-51e8-45ed-8111-142e611c53c0",
   "metadata": {},
   "outputs": [
    {
     "data": {
      "text/plain": [
       "20109"
      ]
     },
     "execution_count": 28,
     "metadata": {},
     "output_type": "execute_result"
    }
   ],
   "source": [
    "nan_count = dem_ex_merge['Variation'].isna().sum()\n",
    "nan_count "
   ]
  },
  {
   "cell_type": "code",
   "execution_count": 32,
   "id": "b7195a4e-d334-465d-92ac-124ae3f25918",
   "metadata": {},
   "outputs": [
    {
     "data": {
      "text/html": [
       "<div>\n",
       "<style scoped>\n",
       "    .dataframe tbody tr th:only-of-type {\n",
       "        vertical-align: middle;\n",
       "    }\n",
       "\n",
       "    .dataframe tbody tr th {\n",
       "        vertical-align: top;\n",
       "    }\n",
       "\n",
       "    .dataframe thead th {\n",
       "        text-align: right;\n",
       "    }\n",
       "</style>\n",
       "<table border=\"1\" class=\"dataframe\">\n",
       "  <thead>\n",
       "    <tr style=\"text-align: right;\">\n",
       "      <th></th>\n",
       "      <th>client_id</th>\n",
       "      <th>clnt_tenure_yr</th>\n",
       "      <th>clnt_tenure_mnth</th>\n",
       "      <th>clnt_age</th>\n",
       "      <th>gendr</th>\n",
       "      <th>num_accts</th>\n",
       "      <th>bal</th>\n",
       "      <th>calls_6_mnth</th>\n",
       "      <th>logons_6_mnth</th>\n",
       "      <th>Variation</th>\n",
       "    </tr>\n",
       "  </thead>\n",
       "  <tbody>\n",
       "    <tr>\n",
       "      <th>0</th>\n",
       "      <td>836976</td>\n",
       "      <td>6.0</td>\n",
       "      <td>73.0</td>\n",
       "      <td>60.5</td>\n",
       "      <td>U</td>\n",
       "      <td>2.0</td>\n",
       "      <td>45105.30</td>\n",
       "      <td>6.0</td>\n",
       "      <td>9.0</td>\n",
       "      <td>Test</td>\n",
       "    </tr>\n",
       "    <tr>\n",
       "      <th>1</th>\n",
       "      <td>2304905</td>\n",
       "      <td>7.0</td>\n",
       "      <td>94.0</td>\n",
       "      <td>58.0</td>\n",
       "      <td>U</td>\n",
       "      <td>2.0</td>\n",
       "      <td>110860.30</td>\n",
       "      <td>6.0</td>\n",
       "      <td>9.0</td>\n",
       "      <td>Control</td>\n",
       "    </tr>\n",
       "    <tr>\n",
       "      <th>2</th>\n",
       "      <td>1439522</td>\n",
       "      <td>5.0</td>\n",
       "      <td>64.0</td>\n",
       "      <td>32.0</td>\n",
       "      <td>U</td>\n",
       "      <td>2.0</td>\n",
       "      <td>52467.79</td>\n",
       "      <td>6.0</td>\n",
       "      <td>9.0</td>\n",
       "      <td>Test</td>\n",
       "    </tr>\n",
       "    <tr>\n",
       "      <th>3</th>\n",
       "      <td>1562045</td>\n",
       "      <td>16.0</td>\n",
       "      <td>198.0</td>\n",
       "      <td>49.0</td>\n",
       "      <td>M</td>\n",
       "      <td>2.0</td>\n",
       "      <td>67454.65</td>\n",
       "      <td>3.0</td>\n",
       "      <td>6.0</td>\n",
       "      <td>Test</td>\n",
       "    </tr>\n",
       "    <tr>\n",
       "      <th>4</th>\n",
       "      <td>5126305</td>\n",
       "      <td>12.0</td>\n",
       "      <td>145.0</td>\n",
       "      <td>33.0</td>\n",
       "      <td>F</td>\n",
       "      <td>2.0</td>\n",
       "      <td>103671.75</td>\n",
       "      <td>0.0</td>\n",
       "      <td>3.0</td>\n",
       "      <td>Control</td>\n",
       "    </tr>\n",
       "    <tr>\n",
       "      <th>...</th>\n",
       "      <td>...</td>\n",
       "      <td>...</td>\n",
       "      <td>...</td>\n",
       "      <td>...</td>\n",
       "      <td>...</td>\n",
       "      <td>...</td>\n",
       "      <td>...</td>\n",
       "      <td>...</td>\n",
       "      <td>...</td>\n",
       "      <td>...</td>\n",
       "    </tr>\n",
       "    <tr>\n",
       "      <th>50495</th>\n",
       "      <td>1780858</td>\n",
       "      <td>21.0</td>\n",
       "      <td>262.0</td>\n",
       "      <td>68.5</td>\n",
       "      <td>M</td>\n",
       "      <td>3.0</td>\n",
       "      <td>372100.59</td>\n",
       "      <td>6.0</td>\n",
       "      <td>9.0</td>\n",
       "      <td>Test</td>\n",
       "    </tr>\n",
       "    <tr>\n",
       "      <th>50496</th>\n",
       "      <td>6967120</td>\n",
       "      <td>21.0</td>\n",
       "      <td>260.0</td>\n",
       "      <td>68.5</td>\n",
       "      <td>M</td>\n",
       "      <td>3.0</td>\n",
       "      <td>4279873.38</td>\n",
       "      <td>6.0</td>\n",
       "      <td>9.0</td>\n",
       "      <td>Control</td>\n",
       "    </tr>\n",
       "    <tr>\n",
       "      <th>50497</th>\n",
       "      <td>5826160</td>\n",
       "      <td>20.0</td>\n",
       "      <td>249.0</td>\n",
       "      <td>56.5</td>\n",
       "      <td>F</td>\n",
       "      <td>2.0</td>\n",
       "      <td>44837.16</td>\n",
       "      <td>2.0</td>\n",
       "      <td>5.0</td>\n",
       "      <td>Test</td>\n",
       "    </tr>\n",
       "    <tr>\n",
       "      <th>50498</th>\n",
       "      <td>8739285</td>\n",
       "      <td>19.0</td>\n",
       "      <td>229.0</td>\n",
       "      <td>69.5</td>\n",
       "      <td>F</td>\n",
       "      <td>2.0</td>\n",
       "      <td>44994.24</td>\n",
       "      <td>1.0</td>\n",
       "      <td>4.0</td>\n",
       "      <td>Test</td>\n",
       "    </tr>\n",
       "    <tr>\n",
       "      <th>50499</th>\n",
       "      <td>7468138</td>\n",
       "      <td>18.0</td>\n",
       "      <td>222.0</td>\n",
       "      <td>61.0</td>\n",
       "      <td>F</td>\n",
       "      <td>3.0</td>\n",
       "      <td>209278.15</td>\n",
       "      <td>0.0</td>\n",
       "      <td>3.0</td>\n",
       "      <td>Test</td>\n",
       "    </tr>\n",
       "  </tbody>\n",
       "</table>\n",
       "<p>50500 rows × 10 columns</p>\n",
       "</div>"
      ],
      "text/plain": [
       "       client_id  clnt_tenure_yr  clnt_tenure_mnth  clnt_age gendr  num_accts  \\\n",
       "0         836976             6.0              73.0      60.5     U        2.0   \n",
       "1        2304905             7.0              94.0      58.0     U        2.0   \n",
       "2        1439522             5.0              64.0      32.0     U        2.0   \n",
       "3        1562045            16.0             198.0      49.0     M        2.0   \n",
       "4        5126305            12.0             145.0      33.0     F        2.0   \n",
       "...          ...             ...               ...       ...   ...        ...   \n",
       "50495    1780858            21.0             262.0      68.5     M        3.0   \n",
       "50496    6967120            21.0             260.0      68.5     M        3.0   \n",
       "50497    5826160            20.0             249.0      56.5     F        2.0   \n",
       "50498    8739285            19.0             229.0      69.5     F        2.0   \n",
       "50499    7468138            18.0             222.0      61.0     F        3.0   \n",
       "\n",
       "              bal  calls_6_mnth  logons_6_mnth Variation  \n",
       "0        45105.30           6.0            9.0      Test  \n",
       "1       110860.30           6.0            9.0   Control  \n",
       "2        52467.79           6.0            9.0      Test  \n",
       "3        67454.65           3.0            6.0      Test  \n",
       "4       103671.75           0.0            3.0   Control  \n",
       "...           ...           ...            ...       ...  \n",
       "50495   372100.59           6.0            9.0      Test  \n",
       "50496  4279873.38           6.0            9.0   Control  \n",
       "50497    44837.16           2.0            5.0      Test  \n",
       "50498    44994.24           1.0            4.0      Test  \n",
       "50499   209278.15           0.0            3.0      Test  \n",
       "\n",
       "[50500 rows x 10 columns]"
      ]
     },
     "execution_count": 32,
     "metadata": {},
     "output_type": "execute_result"
    }
   ],
   "source": [
    "dem_ex_merge_drop = dem_ex_merge.dropna(subset=['Variation'])\n",
    "dem_ex_merge_drop"
   ]
  },
  {
   "cell_type": "markdown",
   "id": "acd6c530-70ff-4566-a87f-a19b18010f8a",
   "metadata": {},
   "source": [
    "## Hypothesis Testing: Analysis of Variations in average age between Test and Control Groups\n"
   ]
  },
  {
   "cell_type": "markdown",
   "id": "7469f6d9-6f63-45ab-8e57-66ee8ad61f12",
   "metadata": {},
   "source": [
    "**H0:** The average age of clients engaging with the new process is not significantly greater than or equal to the average age of those engaging with the old process.\n",
    "\n",
    "**H1:** The average age of clients engaging with the new process is significantly greater than the average age of those engaging with the old process.\n"
   ]
  },
  {
   "cell_type": "code",
   "execution_count": 35,
   "id": "0d93cdb1-b159-43ce-9168-2a2f980c1766",
   "metadata": {},
   "outputs": [
    {
     "name": "stdout",
     "output_type": "stream",
     "text": [
      "  age_group Variation  count\n",
      "0      0-29      Test   4596\n",
      "1      0-29   Control   3935\n",
      "2     30-49      Test   9898\n",
      "3     30-49   Control   8442\n",
      "4     50-69      Test  10672\n",
      "5     50-69   Control   9513\n",
      "6     70-89      Test   1770\n",
      "7     70-89   Control   1618\n",
      "8       90+      Test     25\n",
      "9       90+   Control     18\n"
     ]
    }
   ],
   "source": [
    "new_age_bins = [0, 30, 50, 70, 90, float('inf')]\n",
    "new_age_labels = ['0-29', '30-49', '50-69', '70-89', '90+']\n",
    "dem_ex_merge_age_grouped = dem_ex_merge_drop.copy()\n",
    "dem_ex_merge_age_grouped.dropna(subset=['clnt_age'], inplace=True)\n",
    "dem_ex_merge_age_grouped['age_group'] = pd.cut(dem_ex_merge_age_grouped['clnt_age'], bins=new_age_bins, labels=new_age_labels, right=False)\n",
    "\n",
    "age_counts_per_test = dem_ex_merge_age_grouped.groupby('age_group')['Variation'].value_counts()\n",
    "age_counts_per_test_df = age_counts_per_test.reset_index(name='count')\n",
    "print(age_counts_per_test_df)"
   ]
  },
  {
   "cell_type": "code",
   "execution_count": 36,
   "id": "ccf01bf6-d7de-4142-b56e-cf4fdd9b9c79",
   "metadata": {},
   "outputs": [
    {
     "name": "stdout",
     "output_type": "stream",
     "text": [
      "One-Sided T-Test Results:\n",
      "T-statistic: -2.4161\n",
      "P-value: 0.9922\n",
      "Fail to reject the null hypothesis: There is not enough evidence to suggest that the average age of clients engaging with the new process is significantly greater than those engaging with the old process.\n"
     ]
    }
   ],
   "source": [
    "age_test = dem_ex_merge_age_grouped[dem_ex_merge_age_grouped['Variation'] == 'Test']['clnt_age']\n",
    "age_control = dem_ex_merge_age_grouped[dem_ex_merge_age_grouped['Variation'] == 'Control']['clnt_age']\n",
    "\n",
    "\n",
    "t_statistic, p_value = ttest_ind(age_test, age_control, alternative='greater')\n",
    "\n",
    "alpha = 0.05\n",
    "\n",
    "print(\"One-Sided T-Test Results:\")\n",
    "print(f\"T-statistic: {t_statistic:.4f}\")\n",
    "print(f\"P-value: {p_value:.4f}\")\n",
    "\n",
    "if p_value < alpha:\n",
    "    print(\"Reject the null hypothesis: The average age of clients engaging with the new process is significantly greater than those engaging with the old process.\")\n",
    "else:\n",
    "    print(\"Fail to reject the null hypothesis: There is not enough evidence to suggest that the average age of clients engaging with the new process is significantly greater than those engaging with the old process.\")"
   ]
  },
  {
   "cell_type": "markdown",
   "id": "014cec99-8e31-4e06-ab8a-3335a3831452",
   "metadata": {},
   "source": [
    "## Hypothesis Testing: Analysis of Variations in Tenure between Test and Control Groups\n"
   ]
  },
  {
   "cell_type": "markdown",
   "id": "da1118c1-31ae-409e-a347-d730cd416e4b",
   "metadata": {},
   "source": [
    "**H0:** The average tenure of clients engaging with the new process is not significantly greater than or equal to the average age of those engaging with the old process."
   ]
  },
  {
   "cell_type": "markdown",
   "id": "1f8e23b0-22b5-4688-b26c-8b8572a5db78",
   "metadata": {},
   "source": [
    "**H1:** The average tenure of clients engaging with the new process is significantly greater than or equal to the average age of those engaging with the old process."
   ]
  },
  {
   "cell_type": "code",
   "execution_count": 38,
   "id": "918fe915-2a38-4877-8e65-25b345f02c35",
   "metadata": {},
   "outputs": [
    {
     "name": "stdout",
     "output_type": "stream",
     "text": [
      "One-Sided T-Test Results:\n",
      "T-statistic: -1.6540\n",
      "P-value: 0.9509\n",
      "Fail to reject the null hypothesis: There is not enough evidence to suggest that the average tenure of clients engaging with the new process is significantly greater than those engaging with the old process.\n"
     ]
    }
   ],
   "source": [
    "tenure_test = dem_ex_merge_age_grouped[dem_ex_merge_age_grouped['Variation'] == 'Test']['clnt_tenure_mnth']\n",
    "tenure_control = dem_ex_merge_age_grouped[dem_ex_merge_age_grouped['Variation'] == 'Control']['clnt_tenure_mnth']\n",
    "\n",
    "\n",
    "t_statistic, p_value = ttest_ind(tenure_test, tenure_control, alternative='greater')\n",
    "\n",
    "alpha = 0.05\n",
    "\n",
    "print(\"One-Sided T-Test Results:\")\n",
    "print(f\"T-statistic: {t_statistic:.4f}\")\n",
    "print(f\"P-value: {p_value:.4f}\")\n",
    "\n",
    "if p_value < alpha:\n",
    "    print(\"Reject the null hypothesis: The average tenure of clients engaging with the new process is significantly greater than those engaging with the old process.\")\n",
    "else:\n",
    "    print(\"Fail to reject the null hypothesis: There is not enough evidence to suggest that the average tenure of clients engaging with the new process is significantly greater than those engaging with the old process.\")"
   ]
  },
  {
   "cell_type": "markdown",
   "id": "ebc251ef-b2ce-4fb7-8ead-c6049313fffd",
   "metadata": {},
   "source": [
    "## Hypothesis Testing: Analysis of Variations in Gender between Test and Control Groups\n"
   ]
  },
  {
   "cell_type": "markdown",
   "id": "6c4863e7-43d9-434a-a203-2875c19c8299",
   "metadata": {},
   "source": [
    "**H0:** The amount of males engaging with the new process is not significantly greater than or equal to the average age of those engaging with the old process."
   ]
  },
  {
   "cell_type": "markdown",
   "id": "909b6406-b344-4ff3-9cfd-a570eff98463",
   "metadata": {},
   "source": [
    "**H1:** The amount of males engaging with the new process is not significantly greater than or equal to the average age of those engaging with the old process."
   ]
  },
  {
   "cell_type": "code",
   "execution_count": 39,
   "id": "7536c674-77cf-4f08-ab0e-f1bc6193a51c",
   "metadata": {},
   "outputs": [
    {
     "data": {
      "text/plain": [
       "array(['M', 'F'], dtype=object)"
      ]
     },
     "execution_count": 39,
     "metadata": {},
     "output_type": "execute_result"
    }
   ],
   "source": [
    "gender_df = dem_ex_merge_drop[dem_ex_merge_drop['gendr'].isin(['F', 'M'])].copy()\n",
    "gender_df['gendr'].unique()"
   ]
  },
  {
   "cell_type": "code",
   "execution_count": 40,
   "id": "a96b371a-1f8d-4415-b4e0-ef85bfe73e88",
   "metadata": {},
   "outputs": [
    {
     "name": "stdout",
     "output_type": "stream",
     "text": [
      "Chi-Square Test Results:\n",
      "Chi-square statistic: 1.3238\n",
      "P-value: 0.2499\n",
      "Fail to reject the null hypothesis: There is no significant association between gender and group.\n"
     ]
    }
   ],
   "source": [
    "gender_test = gender_df[gender_df['Variation'] == 'Test']['gendr']\n",
    "gendr_control = gender_df[gender_df['Variation'] == 'Control']['gendr']\n",
    "\n",
    "\n",
    "contingency_table = pd.crosstab(gender_df['Variation'], gender_df['gendr'])\n",
    "chi2, p_value, dof, expected = chi2_contingency(contingency_table)\n",
    "\n",
    "alpha = 0.05\n",
    "\n",
    "print(\"Chi-Square Test Results:\")\n",
    "print(f\"Chi-square statistic: {chi2:.4f}\")\n",
    "print(f\"P-value: {p_value:.4f}\")\n",
    "\n",
    "if p_value < alpha:\n",
    "    print(\"Reject the null hypothesis: There is a significant association between gender and group.\")\n",
    "else:\n",
    "    print(\"Fail to reject the null hypothesis: There is no significant association between gender and group.\")"
   ]
  },
  {
   "cell_type": "code",
   "execution_count": 41,
   "id": "b0553dd9-2785-4f56-abf0-68399f0b1648",
   "metadata": {},
   "outputs": [
    {
     "name": "stdout",
     "output_type": "stream",
     "text": [
      "Common values: client_id\n",
      "True    50487\n",
      "Name: count, dtype: int64\n"
     ]
    }
   ],
   "source": [
    "common_values = dem_ex_merge_age_grouped['client_id'].isin(max_step_reached.index).value_counts()\n",
    "\n",
    "print(\"Common values:\", common_values)"
   ]
  },
  {
   "cell_type": "markdown",
   "id": "d3159980-c509-46ed-b7fc-732916e7bed3",
   "metadata": {},
   "source": [
    "## Statistical Analysis of Completion Rate and Cost-Effectiveness Threshold\n"
   ]
  },
  {
   "cell_type": "markdown",
   "id": "8913e902-6c2f-4df2-be46-19242444d333",
   "metadata": {},
   "source": [
    "**H0:** There is no difference in completion rates between the Test and Control groups.\n",
    "\n",
    "**H1:** There is a difference in completion rates between the Test and Control groups.\n"
   ]
  },
  {
   "cell_type": "code",
   "execution_count": 46,
   "id": "5864a69b-3ffc-44d7-922a-d775ecccf6e4",
   "metadata": {},
   "outputs": [],
   "source": [
    "step_ranking = {'start': 1, 'step_1': 2, 'step_2': 3, 'step_3': 4, 'confirm': 5}\n",
    "df_f_we_process = df_f_we.copy()\n",
    "df_f_we_process['step_rank'] = df_f_we_process['process_step'].map(step_ranking)\n",
    "max_step_reached = df_f_we_process.groupby('client_id')['step_rank'].max()"
   ]
  },
  {
   "cell_type": "code",
   "execution_count": 47,
   "id": "a458085d-6c26-46c4-951e-4538f9206a81",
   "metadata": {},
   "outputs": [],
   "source": [
    "series_process_df = max_step_reached.to_frame(name='step_reached').reset_index()\n",
    "step_reached_df = pd.merge(dem_ex_merge_age_grouped, series_process_df, on='client_id')"
   ]
  },
  {
   "cell_type": "code",
   "execution_count": 48,
   "id": "b674e9ea-0b87-4f7c-a9a9-981eb68df211",
   "metadata": {},
   "outputs": [
    {
     "name": "stdout",
     "output_type": "stream",
     "text": [
      "Z-score: 8.8927\n",
      "P-value: 0.0000\n",
      "Reject the null hypothesis: There is a significant difference in completion rates between Test and Control groups.\n"
     ]
    }
   ],
   "source": [
    "total_test = step_reached_df[step_reached_df['Variation'] == 'Test'].shape[0]\n",
    "total_control = step_reached_df[step_reached_df['Variation'] == 'Control'].shape[0]\n",
    "\n",
    "total_finished_test = step_reached_df[(step_reached_df['step_reached'] == 5) & (step_reached_df['Variation'] == 'Test')].shape[0]\n",
    "total_finished_control = step_reached_df[(step_reached_df['step_reached'] == 5) & (step_reached_df['Variation'] == 'Control')].shape[0]\n",
    "\n",
    "stat, p_value = proportions_ztest([total_finished_test, total_finished_control],\n",
    "                                   [total_test, total_control])\n",
    "alpha = 0.05\n",
    "\n",
    "print(f\"Z-score: {stat:.4f}\")\n",
    "print(f\"P-value: {p_value:.4f}\")\n",
    "\n",
    "if p_value < alpha:\n",
    "    print(\"Reject the null hypothesis: There is a significant difference in completion rates between Test and Control groups.\")\n",
    "else:\n",
    "    print(\"Fail to reject the null hypothesis: There is no significant difference in completion rates between Test and Control groups.\")"
   ]
  },
  {
   "cell_type": "code",
   "execution_count": 49,
   "id": "744535ad-8b0a-499c-bbdc-b32d6338cfe0",
   "metadata": {
    "scrolled": true
   },
   "outputs": [
    {
     "data": {
      "text/html": [
       "<div>\n",
       "<style scoped>\n",
       "    .dataframe tbody tr th:only-of-type {\n",
       "        vertical-align: middle;\n",
       "    }\n",
       "\n",
       "    .dataframe tbody tr th {\n",
       "        vertical-align: top;\n",
       "    }\n",
       "\n",
       "    .dataframe thead th {\n",
       "        text-align: right;\n",
       "    }\n",
       "</style>\n",
       "<table border=\"1\" class=\"dataframe\">\n",
       "  <thead>\n",
       "    <tr style=\"text-align: right;\">\n",
       "      <th></th>\n",
       "      <th>client_id</th>\n",
       "      <th>clnt_tenure_yr</th>\n",
       "      <th>clnt_tenure_mnth</th>\n",
       "      <th>clnt_age</th>\n",
       "      <th>gendr</th>\n",
       "      <th>num_accts</th>\n",
       "      <th>bal</th>\n",
       "      <th>calls_6_mnth</th>\n",
       "      <th>logons_6_mnth</th>\n",
       "      <th>Variation</th>\n",
       "      <th>age_group</th>\n",
       "      <th>step_reached</th>\n",
       "    </tr>\n",
       "  </thead>\n",
       "  <tbody>\n",
       "    <tr>\n",
       "      <th>0</th>\n",
       "      <td>836976</td>\n",
       "      <td>6.0</td>\n",
       "      <td>73.0</td>\n",
       "      <td>60.5</td>\n",
       "      <td>U</td>\n",
       "      <td>2.0</td>\n",
       "      <td>45105.30</td>\n",
       "      <td>6.0</td>\n",
       "      <td>9.0</td>\n",
       "      <td>Test</td>\n",
       "      <td>50-69</td>\n",
       "      <td>5</td>\n",
       "    </tr>\n",
       "    <tr>\n",
       "      <th>1</th>\n",
       "      <td>2304905</td>\n",
       "      <td>7.0</td>\n",
       "      <td>94.0</td>\n",
       "      <td>58.0</td>\n",
       "      <td>U</td>\n",
       "      <td>2.0</td>\n",
       "      <td>110860.30</td>\n",
       "      <td>6.0</td>\n",
       "      <td>9.0</td>\n",
       "      <td>Control</td>\n",
       "      <td>50-69</td>\n",
       "      <td>5</td>\n",
       "    </tr>\n",
       "    <tr>\n",
       "      <th>2</th>\n",
       "      <td>1439522</td>\n",
       "      <td>5.0</td>\n",
       "      <td>64.0</td>\n",
       "      <td>32.0</td>\n",
       "      <td>U</td>\n",
       "      <td>2.0</td>\n",
       "      <td>52467.79</td>\n",
       "      <td>6.0</td>\n",
       "      <td>9.0</td>\n",
       "      <td>Test</td>\n",
       "      <td>30-49</td>\n",
       "      <td>4</td>\n",
       "    </tr>\n",
       "    <tr>\n",
       "      <th>3</th>\n",
       "      <td>1562045</td>\n",
       "      <td>16.0</td>\n",
       "      <td>198.0</td>\n",
       "      <td>49.0</td>\n",
       "      <td>M</td>\n",
       "      <td>2.0</td>\n",
       "      <td>67454.65</td>\n",
       "      <td>3.0</td>\n",
       "      <td>6.0</td>\n",
       "      <td>Test</td>\n",
       "      <td>30-49</td>\n",
       "      <td>1</td>\n",
       "    </tr>\n",
       "    <tr>\n",
       "      <th>4</th>\n",
       "      <td>5126305</td>\n",
       "      <td>12.0</td>\n",
       "      <td>145.0</td>\n",
       "      <td>33.0</td>\n",
       "      <td>F</td>\n",
       "      <td>2.0</td>\n",
       "      <td>103671.75</td>\n",
       "      <td>0.0</td>\n",
       "      <td>3.0</td>\n",
       "      <td>Control</td>\n",
       "      <td>30-49</td>\n",
       "      <td>1</td>\n",
       "    </tr>\n",
       "    <tr>\n",
       "      <th>...</th>\n",
       "      <td>...</td>\n",
       "      <td>...</td>\n",
       "      <td>...</td>\n",
       "      <td>...</td>\n",
       "      <td>...</td>\n",
       "      <td>...</td>\n",
       "      <td>...</td>\n",
       "      <td>...</td>\n",
       "      <td>...</td>\n",
       "      <td>...</td>\n",
       "      <td>...</td>\n",
       "      <td>...</td>\n",
       "    </tr>\n",
       "    <tr>\n",
       "      <th>50482</th>\n",
       "      <td>1780858</td>\n",
       "      <td>21.0</td>\n",
       "      <td>262.0</td>\n",
       "      <td>68.5</td>\n",
       "      <td>M</td>\n",
       "      <td>3.0</td>\n",
       "      <td>372100.59</td>\n",
       "      <td>6.0</td>\n",
       "      <td>9.0</td>\n",
       "      <td>Test</td>\n",
       "      <td>50-69</td>\n",
       "      <td>5</td>\n",
       "    </tr>\n",
       "    <tr>\n",
       "      <th>50483</th>\n",
       "      <td>6967120</td>\n",
       "      <td>21.0</td>\n",
       "      <td>260.0</td>\n",
       "      <td>68.5</td>\n",
       "      <td>M</td>\n",
       "      <td>3.0</td>\n",
       "      <td>4279873.38</td>\n",
       "      <td>6.0</td>\n",
       "      <td>9.0</td>\n",
       "      <td>Control</td>\n",
       "      <td>50-69</td>\n",
       "      <td>5</td>\n",
       "    </tr>\n",
       "    <tr>\n",
       "      <th>50484</th>\n",
       "      <td>5826160</td>\n",
       "      <td>20.0</td>\n",
       "      <td>249.0</td>\n",
       "      <td>56.5</td>\n",
       "      <td>F</td>\n",
       "      <td>2.0</td>\n",
       "      <td>44837.16</td>\n",
       "      <td>2.0</td>\n",
       "      <td>5.0</td>\n",
       "      <td>Test</td>\n",
       "      <td>50-69</td>\n",
       "      <td>5</td>\n",
       "    </tr>\n",
       "    <tr>\n",
       "      <th>50485</th>\n",
       "      <td>8739285</td>\n",
       "      <td>19.0</td>\n",
       "      <td>229.0</td>\n",
       "      <td>69.5</td>\n",
       "      <td>F</td>\n",
       "      <td>2.0</td>\n",
       "      <td>44994.24</td>\n",
       "      <td>1.0</td>\n",
       "      <td>4.0</td>\n",
       "      <td>Test</td>\n",
       "      <td>50-69</td>\n",
       "      <td>5</td>\n",
       "    </tr>\n",
       "    <tr>\n",
       "      <th>50486</th>\n",
       "      <td>7468138</td>\n",
       "      <td>18.0</td>\n",
       "      <td>222.0</td>\n",
       "      <td>61.0</td>\n",
       "      <td>F</td>\n",
       "      <td>3.0</td>\n",
       "      <td>209278.15</td>\n",
       "      <td>0.0</td>\n",
       "      <td>3.0</td>\n",
       "      <td>Test</td>\n",
       "      <td>50-69</td>\n",
       "      <td>4</td>\n",
       "    </tr>\n",
       "  </tbody>\n",
       "</table>\n",
       "<p>50487 rows × 12 columns</p>\n",
       "</div>"
      ],
      "text/plain": [
       "       client_id  clnt_tenure_yr  clnt_tenure_mnth  clnt_age gendr  num_accts  \\\n",
       "0         836976             6.0              73.0      60.5     U        2.0   \n",
       "1        2304905             7.0              94.0      58.0     U        2.0   \n",
       "2        1439522             5.0              64.0      32.0     U        2.0   \n",
       "3        1562045            16.0             198.0      49.0     M        2.0   \n",
       "4        5126305            12.0             145.0      33.0     F        2.0   \n",
       "...          ...             ...               ...       ...   ...        ...   \n",
       "50482    1780858            21.0             262.0      68.5     M        3.0   \n",
       "50483    6967120            21.0             260.0      68.5     M        3.0   \n",
       "50484    5826160            20.0             249.0      56.5     F        2.0   \n",
       "50485    8739285            19.0             229.0      69.5     F        2.0   \n",
       "50486    7468138            18.0             222.0      61.0     F        3.0   \n",
       "\n",
       "              bal  calls_6_mnth  logons_6_mnth Variation age_group  \\\n",
       "0        45105.30           6.0            9.0      Test     50-69   \n",
       "1       110860.30           6.0            9.0   Control     50-69   \n",
       "2        52467.79           6.0            9.0      Test     30-49   \n",
       "3        67454.65           3.0            6.0      Test     30-49   \n",
       "4       103671.75           0.0            3.0   Control     30-49   \n",
       "...           ...           ...            ...       ...       ...   \n",
       "50482   372100.59           6.0            9.0      Test     50-69   \n",
       "50483  4279873.38           6.0            9.0   Control     50-69   \n",
       "50484    44837.16           2.0            5.0      Test     50-69   \n",
       "50485    44994.24           1.0            4.0      Test     50-69   \n",
       "50486   209278.15           0.0            3.0      Test     50-69   \n",
       "\n",
       "       step_reached  \n",
       "0                 5  \n",
       "1                 5  \n",
       "2                 4  \n",
       "3                 1  \n",
       "4                 1  \n",
       "...             ...  \n",
       "50482             5  \n",
       "50483             5  \n",
       "50484             5  \n",
       "50485             5  \n",
       "50486             4  \n",
       "\n",
       "[50487 rows x 12 columns]"
      ]
     },
     "execution_count": 49,
     "metadata": {},
     "output_type": "execute_result"
    }
   ],
   "source": [
    "step5_counts_finish = step_reached_df[step_reached_df['step_reached'] == 5]['Variation'].value_counts()\n",
    "step5_counts_finish\n",
    "step_reached_df"
   ]
  },
  {
   "cell_type": "code",
   "execution_count": 63,
   "id": "702a11b2-0c84-4748-b6bf-a3e228a0bd2d",
   "metadata": {},
   "outputs": [
    {
     "name": "stdout",
     "output_type": "stream",
     "text": [
      "Percentage of clients who reached step 5:\n",
      "Variation\n",
      "Test       69.292682\n",
      "Control    65.578509\n",
      "Name: count, dtype: float64\n"
     ]
    }
   ],
   "source": [
    "step5_clients_df = step_reached_df[step_reached_df['step_reached'] == 5]\n",
    "step5_counts = step5_clients_df['Variation'].value_counts()\n",
    "total_clients = step_reached_df['Variation'].value_counts()\n",
    "step5_percentage = (step5_counts / total_clients) * 100\n",
    "\n",
    "print(\"Percentage of clients who reached step 5:\")\n",
    "print(step5_percentage)"
   ]
  },
  {
   "cell_type": "code",
   "execution_count": 105,
   "id": "a62f7c05-d031-4c84-9512-796aa1b331fe",
   "metadata": {},
   "outputs": [
    {
     "data": {
      "text/html": [
       "<div>\n",
       "<style scoped>\n",
       "    .dataframe tbody tr th:only-of-type {\n",
       "        vertical-align: middle;\n",
       "    }\n",
       "\n",
       "    .dataframe tbody tr th {\n",
       "        vertical-align: top;\n",
       "    }\n",
       "\n",
       "    .dataframe thead th {\n",
       "        text-align: right;\n",
       "    }\n",
       "</style>\n",
       "<table border=\"1\" class=\"dataframe\">\n",
       "  <thead>\n",
       "    <tr style=\"text-align: right;\">\n",
       "      <th></th>\n",
       "      <th>Variation</th>\n",
       "      <th>Total clients</th>\n",
       "      <th>Complete all steps</th>\n",
       "      <th>Percentage</th>\n",
       "    </tr>\n",
       "  </thead>\n",
       "  <tbody>\n",
       "    <tr>\n",
       "      <th>0</th>\n",
       "      <td>Test</td>\n",
       "      <td>26961</td>\n",
       "      <td>18682</td>\n",
       "      <td>69.292682</td>\n",
       "    </tr>\n",
       "    <tr>\n",
       "      <th>1</th>\n",
       "      <td>Control</td>\n",
       "      <td>23526</td>\n",
       "      <td>15428</td>\n",
       "      <td>65.578509</td>\n",
       "    </tr>\n",
       "  </tbody>\n",
       "</table>\n",
       "</div>"
      ],
      "text/plain": [
       "  Variation  Total clients  Complete all steps  Percentage\n",
       "0      Test          26961               18682   69.292682\n",
       "1   Control          23526               15428   65.578509"
      ]
     },
     "execution_count": 105,
     "metadata": {},
     "output_type": "execute_result"
    }
   ],
   "source": [
    "completion_df = pd.concat([total_clients, step5_counts, step5_percentage], axis=1)\n",
    "completion_df.index = ['Test', 'Control']\n",
    "completion_df\n",
    "\n",
    "completion_df.reset_index(inplace=True)\n",
    "\n",
    "completion_df.columns = ['Variation', 'Total clients', 'Complete all steps', 'Percentage']\n",
    "completion_df"
   ]
  },
  {
   "cell_type": "code",
   "execution_count": 107,
   "id": "ea36eeca-9299-474c-8a34-3e46acf1c8f8",
   "metadata": {},
   "outputs": [
    {
     "name": "stdout",
     "output_type": "stream",
     "text": [
      "CSV file created successfully.\n"
     ]
    }
   ],
   "source": [
    "completion_df.to_csv('completion_group.csv', index=False)\n",
    "\n",
    "print(\"CSV file created successfully.\")"
   ]
  },
  {
   "cell_type": "code",
   "execution_count": 109,
   "id": "4159b1bd-3125-429c-86d2-920fbbde89d5",
   "metadata": {},
   "outputs": [
    {
     "name": "stdout",
     "output_type": "stream",
     "text": [
      "CSV file created successfully.\n"
     ]
    }
   ],
   "source": [
    "df_completion_rate = pd.DataFrame({'Variation': ['Test', 'Control'],\n",
    "                   'Total clients': total_clients.values,\n",
    "                   'Complete all steps': step5_counts.values,\n",
    "                   'Percentage': step5_percentage.values})\n",
    "\n",
    "# Export DataFrame to CSV\n",
    "df_completion_rate.to_csv('merged_data_for_tableau.csv', index=False)\n",
    "\n",
    "print(\"CSV file created successfully.\")"
   ]
  },
  {
   "cell_type": "code",
   "execution_count": 64,
   "id": "8792320c-cc47-467f-989d-2a0785b11b27",
   "metadata": {},
   "outputs": [
    {
     "name": "stdout",
     "output_type": "stream",
     "text": [
      "Percentage difference between test and control:\n",
      "5.66 %\n"
     ]
    }
   ],
   "source": [
    "percentage_diff = round(((step5_percentage.iloc[0] - step5_percentage.iloc[1]) / step5_percentage.iloc[1]) * 100 , 2)\n",
    "print(\"Percentage difference between test and control:\")\n",
    "print(percentage_diff, '%')"
   ]
  },
  {
   "cell_type": "markdown",
   "id": "4fd2e68d-127f-4fd2-8487-4a238942bf11",
   "metadata": {},
   "source": [
    "## Grouping by balance, tenure and age"
   ]
  },
  {
   "cell_type": "code",
   "execution_count": 52,
   "id": "7eb4d607-c503-4e3b-a364-2eb07387f4af",
   "metadata": {},
   "outputs": [
    {
     "name": "stdout",
     "output_type": "stream",
     "text": [
      "   balance_group Variation  count\n",
      "0          0-10k   Control      0\n",
      "1          0-10k      Test      0\n",
      "2        10k-50k      Test  10000\n",
      "3        10k-50k   Control   8545\n",
      "4       50k-100k      Test   7639\n",
      "5       50k-100k   Control   6825\n",
      "6      100k-500k      Test   7876\n",
      "7      100k-500k   Control   6888\n",
      "8        500k-1M      Test   1016\n",
      "9        500k-1M   Control    871\n",
      "10           1M+      Test    430\n",
      "11           1M+   Control    398\n"
     ]
    }
   ],
   "source": [
    "balance_bins = [0, 10000, 50000, 100000, 500000, 1000000, float('inf')]\n",
    "balance_labels = ['0-10k', '10k-50k', '50k-100k', '100k-500k', '500k-1M', '1M+']\n",
    "\n",
    "dem_ex_merge_balance_grouped = dem_ex_merge_drop.copy()\n",
    "\n",
    "dem_ex_merge_balance_grouped.loc[:, 'balance_group'] = pd.cut(dem_ex_merge_balance_grouped['bal'], bins=balance_bins, labels=balance_labels, right=False)\n",
    "\n",
    "balance_counts_per_test = dem_ex_merge_balance_grouped.groupby('balance_group')['Variation'].value_counts()\n",
    "balance_counts_per_test_df = balance_counts_per_test.reset_index(name='count')\n",
    "print(balance_counts_per_test_df)"
   ]
  },
  {
   "cell_type": "code",
   "execution_count": 95,
   "id": "0356293e-05c2-41d1-9a8f-9a46ae781cf1",
   "metadata": {},
   "outputs": [
    {
     "name": "stdout",
     "output_type": "stream",
     "text": [
      "DataFrame saved to CSV file: balance_group.csv\n"
     ]
    }
   ],
   "source": [
    "csv_file_path = 'balance_group.csv'\n",
    "balance_counts_per_test_df.to_csv(csv_file_path, index=False)  # Set index=False to exclude row numbers in the CSV file\n",
    "\n",
    "print(\"DataFrame saved to CSV file:\", csv_file_path)"
   ]
  },
  {
   "cell_type": "code",
   "execution_count": 93,
   "id": "ec028139-40c9-48ba-8bbb-1a07e1fe7e4f",
   "metadata": {},
   "outputs": [
    {
     "name": "stdout",
     "output_type": "stream",
     "text": [
      "   tenure_group Variation  count\n",
      "0           0-5      Test   2033\n",
      "1           0-5   Control   1746\n",
      "2          6-10      Test  10156\n",
      "3          6-10   Control   8713\n",
      "4         11-15      Test   6324\n",
      "5         11-15   Control   5564\n",
      "6         16-20      Test   4190\n",
      "7         16-20   Control   3685\n",
      "8         21-25      Test   2769\n",
      "9         21-25   Control   2491\n",
      "10          26+      Test   1489\n",
      "11          26+   Control   1328\n"
     ]
    }
   ],
   "source": [
    "tenure_bins = [0, 5, 10, 15, 20, 25, float('inf')]\n",
    "tenure_labels = ['0-5', '6-10', '11-15', '16-20', '21-25', '26+']\n",
    "dem_ex_merge_tenure_grouped = dem_ex_merge_drop.copy()\n",
    "\n",
    "dem_ex_merge_tenure_grouped.loc[:, 'tenure_group'] = pd.cut(dem_ex_merge_tenure_grouped['clnt_tenure_yr'], bins=tenure_bins, labels=tenure_labels, right=False)\n",
    "\n",
    "tenure_counts_per_test = dem_ex_merge_tenure_grouped.groupby('tenure_group')['Variation'].value_counts()\n",
    "tenure_counts_per_test_df = tenure_counts_per_test.reset_index(name='count')\n",
    "print(tenure_counts_per_test_df)"
   ]
  },
  {
   "cell_type": "code",
   "execution_count": 94,
   "id": "4ecfd498-7431-4ec7-8670-8db8eed99132",
   "metadata": {},
   "outputs": [
    {
     "name": "stdout",
     "output_type": "stream",
     "text": [
      "DataFrame saved to CSV file: tenure_group.csv\n"
     ]
    }
   ],
   "source": [
    "csv_file_path = 'tenure_group.csv'\n",
    "tenure_counts_per_test_df.to_csv(csv_file_path, index=False)  # Set index=False to exclude row numbers in the CSV file\n",
    "\n",
    "print(\"DataFrame saved to CSV file:\", csv_file_path)"
   ]
  },
  {
   "cell_type": "code",
   "execution_count": 54,
   "id": "d897ef6d-a828-4cf7-9297-6505b922f82c",
   "metadata": {},
   "outputs": [
    {
     "name": "stdout",
     "output_type": "stream",
     "text": [
      "  age_group Variation  count\n",
      "0      0-29      Test   4596\n",
      "1      0-29   Control   3935\n",
      "2     30-49      Test   9898\n",
      "3     30-49   Control   8442\n",
      "4     50-69      Test  10672\n",
      "5     50-69   Control   9513\n",
      "6     70-89      Test   1770\n",
      "7     70-89   Control   1618\n",
      "8       90+      Test     25\n",
      "9       90+   Control     18\n"
     ]
    }
   ],
   "source": [
    "new_age_bins = [0, 30, 50, 70, 90, float('inf')]\n",
    "new_age_labels = ['0-29', '30-49', '50-69', '70-89', '90+']\n",
    "dem_ex_merge_age_grouped = dem_ex_merge_drop.copy()\n",
    "dem_ex_merge_age_grouped.dropna(subset=['clnt_age'], inplace=True)\n",
    "dem_ex_merge_age_grouped['age_group'] = pd.cut(dem_ex_merge_age_grouped['clnt_age'], bins=new_age_bins, labels=new_age_labels, right=False)\n",
    "\n",
    "age_counts_per_test = dem_ex_merge_age_grouped.groupby('age_group')['Variation'].value_counts()\n",
    "age_counts_per_test_df = age_counts_per_test.reset_index(name='count')\n",
    "print(age_counts_per_test_df)"
   ]
  },
  {
   "cell_type": "code",
   "execution_count": 92,
   "id": "cb59ffec-f7e5-4b0c-aa4e-46fb0276fcc8",
   "metadata": {},
   "outputs": [
    {
     "name": "stdout",
     "output_type": "stream",
     "text": [
      "DataFrame saved to CSV file: age_group.csv\n"
     ]
    }
   ],
   "source": [
    "csv_file_path = 'age_group.csv'\n",
    "age_counts_per_test_df.to_csv(csv_file_path, index=False)  # Set index=False to exclude row numbers in the CSV file\n",
    "\n",
    "print(\"DataFrame saved to CSV file:\", csv_file_path)"
   ]
  },
  {
   "cell_type": "code",
   "execution_count": null,
   "id": "d8dadbce-d5f9-4af4-9f53-7d08eeff9715",
   "metadata": {},
   "outputs": [],
   "source": [
    "\n",
    "start_control = df_final_merged[(df_final_merged['Variation'] == 'Control') & (df_final_merged['process_step'] == 'start')].groupby(['client_id', 'visitor_id', 'visit_id']).size().reset_index(name='count').shape[0]\n",
    "start_test = df_final_merged[(df_final_merged['Variation'] == 'Test') & (df_final_merged['process_step'] == 'start')].groupby(['client_id', 'visitor_id', 'visit_id']).size().reset_index(name='count').shape[0]\n",
    "\n",
    "confirm_control = df_final_merged[(df_final_merged['Variation'] == 'Control') & (df_final_merged['process_step'] == 'confirm')].groupby(['client_id', 'visitor_id', 'visit_id']).size().reset_index(name='count').shape[0]\n",
    "confirm_test = df_final_merged[(df_final_merged['Variation'] == 'Test') & (df_final_merged['process_step'] == 'confirm')].groupby(['client_id', 'visitor_id', 'visit_id']).size().reset_index(name='count').shape[0]\n",
    "\n",
    "# Calculate completion rate\n",
    "control_completion_rate = round(confirm_control / start_control, 2)\n",
    "test_completion_rate = round(confirm_test / start_test, 2)\n",
    "\n",
    "# Print completion rates\n",
    "print(\"The control completion rate is:\", control_completion_rate)\n",
    "print(\"The test completion rate is:\", test_completion_rate)"
   ]
  }
 ],
 "metadata": {
  "kernelspec": {
   "display_name": "project_venv",
   "language": "python",
   "name": "project_venv"
  },
  "language_info": {
   "codemirror_mode": {
    "name": "ipython",
    "version": 3
   },
   "file_extension": ".py",
   "mimetype": "text/x-python",
   "name": "python",
   "nbconvert_exporter": "python",
   "pygments_lexer": "ipython3",
   "version": "3.8.18"
  }
 },
 "nbformat": 4,
 "nbformat_minor": 5
}
